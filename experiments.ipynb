{
 "cells": [
  {
   "cell_type": "markdown",
   "metadata": {},
   "source": [
    "<p style=\"background-color:#032765; font-family: newtimeroman; color: #ffffff; font-size: 200%; text-align: center; border-radius: 10px 10px;\">Task 0 - Libraries</p>"
   ]
  },
  {
   "cell_type": "markdown",
   "metadata": {},
   "source": [
    "<p style=\"background-color:#032765; font-family: newtimeroman; color: #ffffff; font-size: 150%; text-align: center; border-radius: 10px 10px;\">0.1 - General Purpose</p>"
   ]
  },
  {
   "cell_type": "code",
   "execution_count": 1,
   "metadata": {},
   "outputs": [],
   "source": [
    "import copy\n",
    "import numpy as np\n",
    "import pandas as pd\n",
    "import random\n",
    "import os\n",
    "\n",
    "os.environ[\"TF_CPP_MIN_LOG_LEVEL\"] = \"1\""
   ]
  },
  {
   "cell_type": "markdown",
   "metadata": {},
   "source": [
    "<p style=\"background-color:#032765; font-family: newtimeroman; color: #ffffff; font-size: 150%; text-align: center; border-radius: 10px 10px;\">0.2 - Exploration</p>"
   ]
  },
  {
   "cell_type": "code",
   "execution_count": 2,
   "metadata": {},
   "outputs": [],
   "source": [
    "import matplotlib.pyplot as plt\n",
    "import scipy.stats as stats"
   ]
  },
  {
   "cell_type": "markdown",
   "metadata": {},
   "source": [
    "<p style=\"background-color:#032765; font-family: newtimeroman; color: #ffffff; font-size: 150%; text-align: center; border-radius: 10px 10px;\">0.3 - Preprocessing</p>"
   ]
  },
  {
   "cell_type": "code",
   "execution_count": 3,
   "metadata": {},
   "outputs": [],
   "source": [
    "from sklearn.model_selection import train_test_split\n",
    "from sklearn.preprocessing import RobustScaler"
   ]
  },
  {
   "cell_type": "markdown",
   "metadata": {},
   "source": [
    "<p style=\"background-color:#032765; font-family: newtimeroman; color: #ffffff; font-size: 150%; text-align: center; border-radius: 10px 10px;\">0.4 - Baseline</p>"
   ]
  },
  {
   "cell_type": "code",
   "execution_count": 4,
   "metadata": {},
   "outputs": [],
   "source": [
    "from sklearn.dummy import DummyRegressor\n",
    "from sklearn.linear_model import LinearRegression"
   ]
  },
  {
   "cell_type": "markdown",
   "metadata": {},
   "source": [
    "<p style=\"background-color:#032765; font-family: newtimeroman; color: #ffffff; font-size: 150%; text-align: center; border-radius: 10px 10px;\">0.5 - Neural Network</p>"
   ]
  },
  {
   "cell_type": "code",
   "execution_count": 5,
   "metadata": {},
   "outputs": [],
   "source": [
    "import torch\n",
    "\n",
    "from skorch import NeuralNetRegressor\n",
    "from torch.utils.tensorboard import SummaryWriter"
   ]
  },
  {
   "cell_type": "markdown",
   "metadata": {},
   "source": [
    "<p style=\"background-color:#032765; font-family: newtimeroman; color: #ffffff; font-size: 150%; text-align: center; border-radius: 10px 10px;\">0.6 - Evaluation</p>"
   ]
  },
  {
   "cell_type": "code",
   "execution_count": 6,
   "metadata": {},
   "outputs": [],
   "source": [
    "from sklearn.metrics import mean_absolute_percentage_error, r2_score\n",
    "from sklearn.model_selection import GridSearchCV, RepeatedKFold"
   ]
  },
  {
   "cell_type": "markdown",
   "metadata": {},
   "source": [
    "<p style=\"background-color:#032765; font-family: newtimeroman; color: #ffffff; font-size: 150%; text-align: center; border-radius: 10px 10px;\">0.7 - Reproducibility</p>"
   ]
  },
  {
   "cell_type": "code",
   "execution_count": 7,
   "metadata": {},
   "outputs": [],
   "source": [
    "torch.set_num_threads(1)\n",
    "\n",
    "random_state = 42"
   ]
  },
  {
   "cell_type": "markdown",
   "metadata": {},
   "source": [
    "<p style=\"background-color:#032765; font-family: newtimeroman; color: #ffffff; font-size: 200%; text-align: center; border-radius: 10px 10px;\">Task 1 - Story</p>"
   ]
  },
  {
   "cell_type": "markdown",
   "metadata": {},
   "source": [
    "Introducing StreetEasy - reimagining the way people buy, sell, and rent real estate across New York City and New Jersey. Incorporating intuitive search tools and insightful data-driven content, we strive to bridge the gap between would-be renters or buyers and landlords. Whether you are listing or hunting, we will cater to your needs from start to finish. The use of data science in such catering is on the rise.\n",
    "\n",
    "My role as a data scientist contributes to real estate marketing efforts, catering pricing strategies to stimulate seeker-landlord interactions. Current research centers around listing-based machine learning. An associated regression problem was introduced, involving the estimation of rental prices by neural networks. Real estate hotspot Manhattan constitutes the focal point of initial experiments.\n",
    "\n",
    "Experiments for a suitable regressor, consulting multiple neural network architectures. Architectures are therefore explored in search of a reliable estimator. Reliability serves as an indicator for prospective project scaling. Scaling is desirable as reliable estimates, could drive pricing strategies, increasing landlord-tenant interaction. Resulting rise in traffic culminates in landlord interest, translating into greater revenue from listing fees."
   ]
  },
  {
   "cell_type": "markdown",
   "metadata": {},
   "source": [
    "<p style=\"background-color:#032765; font-family: newtimeroman; color: #ffffff; font-size: 200%; text-align: center; border-radius: 10px 10px;\">Task 2 - The Data</p>"
   ]
  },
  {
   "cell_type": "markdown",
   "metadata": {},
   "source": [
    "The following chapter details the __[dataset](https://www.kaggle.com/datasets/zohaib30/streeteasy-dataset/data)__ considered for the regression experiment. More specifically, it will be outlined what it consists of and how it might fit within the experiment context. Should the __[dataset](https://www.kaggle.com/datasets/zohaib30/streeteasy-dataset/data)__ appear valid according to that outline, it will be used in the experiment."
   ]
  },
  {
   "cell_type": "markdown",
   "metadata": {},
   "source": [
    "<p style=\"background-color:#032765; font-family: newtimeroman; color: #ffffff; font-size: 150%; text-align: center; border-radius: 10px 10px;\">2.1 - Features</p>"
   ]
  },
  {
   "cell_type": "markdown",
   "metadata": {},
   "source": [
    "<center>\n",
    "\n",
    "|Feature|Description|\n",
    "|:----:|:----:|\n",
    "|rental_id|Identifier unique to the rental listing.|\n",
    "|rent|Price of the rental listing in US dollars per month.|\n",
    "|bedrooms|Bedrooms located within the rental listing.|\n",
    "|bathrooms|Bathrooms located within the rental listing.|\n",
    "|size_sqft|Size of the rental listing in square feet.|\n",
    "|min_to_subway|Distance of the rental listing to a subway station in minutes.|\n",
    "|floor|Level within the building on which the rental listing is located.|\n",
    "|building_age_yrs|Time elapsed since the construction of the building for the rental listing in years.|\n",
    "|no_fee|Denotes the presence of charges associated with potential brokers for the rental listing.|\n",
    "|has_roofdeck|Denotes the presence of a flat, terraced roof section on the rental listing building.|\n",
    "|has_washer_dryer|Denotes the presence of a machine dedicated to washing and drying cloth within the rental listing.|\n",
    "|has_doorman|Denotes the presence of staff dedicated to regulating access to the rental listing building.|\n",
    "|has_elevator|Denotes the presence of a room dedicated to ferrying passengers up and down the rental listing building.|\n",
    "|has_dishwasher|Denotes the presence of a machine dedicated to washing dishes within the rental listing.|\n",
    "|has_patio|Denotes the presence of a solid-floored outside area adjoining the ground floor of the rental listing building.|\n",
    "|has_gym|Denotes the presence of an area equipped with exercise tools within the rental listing building.|\n",
    "|neighborhood|Geographic subarea of a borough where the rental listing building is located.|\n",
    "|borough|Division of New York City where the rental listing building is located.|\n",
    "\n",
    "</center>"
   ]
  },
  {
   "cell_type": "markdown",
   "metadata": {},
   "source": [
    "<p style=\"background-color:#032765; font-family: newtimeroman; color: #ffffff; font-size: 150%; text-align: center; border-radius: 10px 10px;\">2.2 - Experiment Context</p>"
   ]
  },
  {
   "cell_type": "markdown",
   "metadata": {},
   "source": [
    "StreetEasy's real estate vertical constitutes the subject of the __[dataset](https://www.kaggle.com/datasets/zohaib30/streeteasy-dataset/data)__, whose instances are labelled with rent rates. Features define property details, whereas instances reflect observed rental listings. Those rental listings observed pertain exclusively to the Manhattan borough.\n",
    "\n",
    "In light of the property details, input features, for pattern recognition, may be available. As these are features of rental properties in Manhattan, the vertical requirement is met. Moreover, rental rate-labeled instances, posing targets, are at disposal, enabling regression tasks. This provides a sound base to engineer neural networks, solving the desired regression problem."
   ]
  },
  {
   "cell_type": "markdown",
   "metadata": {},
   "source": [
    "<p style=\"background-color:#032765; font-family: newtimeroman; color: #ffffff; font-size: 150%; text-align: center; border-radius: 10px 10px;\">2.3 - Loading Dataset</p>"
   ]
  },
  {
   "cell_type": "code",
   "execution_count": 8,
   "metadata": {},
   "outputs": [],
   "source": [
    "df = pd.read_csv(filepath_or_buffer = \"manhattan.csv\")"
   ]
  },
  {
   "cell_type": "markdown",
   "metadata": {},
   "source": [
    "In this cell, the relevant dataset for the regression experiment is read and stored as df."
   ]
  },
  {
   "cell_type": "markdown",
   "metadata": {},
   "source": [
    "<p style=\"background-color:#032765; font-family: newtimeroman; color: #ffffff; font-size: 200%; text-align: center; border-radius: 10px 10px;\">Task 3 - IDA</p>"
   ]
  },
  {
   "cell_type": "markdown",
   "metadata": {},
   "source": [
    "The upcoming chapter lays the groundwork for explanatory analysis and preprocessing. Hence, an overview of the __[dataset](https://www.kaggle.com/datasets/zohaib30/streeteasy-dataset/data)__'s structural, qualitative, and statistical properties is established. Starting with the basic structure, as shown below."
   ]
  },
  {
   "cell_type": "code",
   "execution_count": 9,
   "metadata": {},
   "outputs": [
    {
     "data": {
      "text/html": [
       "<div>\n",
       "<style scoped>\n",
       "    .dataframe tbody tr th:only-of-type {\n",
       "        vertical-align: middle;\n",
       "    }\n",
       "\n",
       "    .dataframe tbody tr th {\n",
       "        vertical-align: top;\n",
       "    }\n",
       "\n",
       "    .dataframe thead th {\n",
       "        text-align: right;\n",
       "    }\n",
       "</style>\n",
       "<table border=\"1\" class=\"dataframe\">\n",
       "  <thead>\n",
       "    <tr style=\"text-align: right;\">\n",
       "      <th></th>\n",
       "      <th>rental_id</th>\n",
       "      <th>rent</th>\n",
       "      <th>bedrooms</th>\n",
       "      <th>bathrooms</th>\n",
       "      <th>size_sqft</th>\n",
       "      <th>min_to_subway</th>\n",
       "      <th>floor</th>\n",
       "      <th>building_age_yrs</th>\n",
       "      <th>no_fee</th>\n",
       "      <th>has_roofdeck</th>\n",
       "      <th>has_washer_dryer</th>\n",
       "      <th>has_doorman</th>\n",
       "      <th>has_elevator</th>\n",
       "      <th>has_dishwasher</th>\n",
       "      <th>has_patio</th>\n",
       "      <th>has_gym</th>\n",
       "      <th>neighborhood</th>\n",
       "      <th>borough</th>\n",
       "    </tr>\n",
       "  </thead>\n",
       "  <tbody>\n",
       "    <tr>\n",
       "      <th>0</th>\n",
       "      <td>1545</td>\n",
       "      <td>2550</td>\n",
       "      <td>0.0</td>\n",
       "      <td>1</td>\n",
       "      <td>480</td>\n",
       "      <td>9</td>\n",
       "      <td>2.0</td>\n",
       "      <td>17</td>\n",
       "      <td>1</td>\n",
       "      <td>1</td>\n",
       "      <td>0</td>\n",
       "      <td>0</td>\n",
       "      <td>1</td>\n",
       "      <td>1</td>\n",
       "      <td>0</td>\n",
       "      <td>1</td>\n",
       "      <td>Upper East Side</td>\n",
       "      <td>Manhattan</td>\n",
       "    </tr>\n",
       "    <tr>\n",
       "      <th>1</th>\n",
       "      <td>2472</td>\n",
       "      <td>11500</td>\n",
       "      <td>2.0</td>\n",
       "      <td>2</td>\n",
       "      <td>2000</td>\n",
       "      <td>4</td>\n",
       "      <td>1.0</td>\n",
       "      <td>96</td>\n",
       "      <td>0</td>\n",
       "      <td>0</td>\n",
       "      <td>0</td>\n",
       "      <td>0</td>\n",
       "      <td>0</td>\n",
       "      <td>0</td>\n",
       "      <td>0</td>\n",
       "      <td>0</td>\n",
       "      <td>Greenwich Village</td>\n",
       "      <td>Manhattan</td>\n",
       "    </tr>\n",
       "    <tr>\n",
       "      <th>2</th>\n",
       "      <td>2919</td>\n",
       "      <td>4500</td>\n",
       "      <td>1.0</td>\n",
       "      <td>1</td>\n",
       "      <td>916</td>\n",
       "      <td>2</td>\n",
       "      <td>51.0</td>\n",
       "      <td>29</td>\n",
       "      <td>0</td>\n",
       "      <td>1</td>\n",
       "      <td>0</td>\n",
       "      <td>1</td>\n",
       "      <td>1</td>\n",
       "      <td>1</td>\n",
       "      <td>0</td>\n",
       "      <td>0</td>\n",
       "      <td>Midtown</td>\n",
       "      <td>Manhattan</td>\n",
       "    </tr>\n",
       "    <tr>\n",
       "      <th>3</th>\n",
       "      <td>2790</td>\n",
       "      <td>4795</td>\n",
       "      <td>1.0</td>\n",
       "      <td>1</td>\n",
       "      <td>975</td>\n",
       "      <td>3</td>\n",
       "      <td>8.0</td>\n",
       "      <td>31</td>\n",
       "      <td>0</td>\n",
       "      <td>0</td>\n",
       "      <td>0</td>\n",
       "      <td>1</td>\n",
       "      <td>1</td>\n",
       "      <td>1</td>\n",
       "      <td>0</td>\n",
       "      <td>1</td>\n",
       "      <td>Greenwich Village</td>\n",
       "      <td>Manhattan</td>\n",
       "    </tr>\n",
       "    <tr>\n",
       "      <th>4</th>\n",
       "      <td>3946</td>\n",
       "      <td>17500</td>\n",
       "      <td>2.0</td>\n",
       "      <td>2</td>\n",
       "      <td>4800</td>\n",
       "      <td>3</td>\n",
       "      <td>4.0</td>\n",
       "      <td>136</td>\n",
       "      <td>0</td>\n",
       "      <td>0</td>\n",
       "      <td>0</td>\n",
       "      <td>1</td>\n",
       "      <td>1</td>\n",
       "      <td>1</td>\n",
       "      <td>0</td>\n",
       "      <td>1</td>\n",
       "      <td>Soho</td>\n",
       "      <td>Manhattan</td>\n",
       "    </tr>\n",
       "    <tr>\n",
       "      <th>5</th>\n",
       "      <td>10817</td>\n",
       "      <td>3800</td>\n",
       "      <td>3.0</td>\n",
       "      <td>2</td>\n",
       "      <td>1100</td>\n",
       "      <td>3</td>\n",
       "      <td>5.0</td>\n",
       "      <td>101</td>\n",
       "      <td>0</td>\n",
       "      <td>0</td>\n",
       "      <td>0</td>\n",
       "      <td>0</td>\n",
       "      <td>0</td>\n",
       "      <td>0</td>\n",
       "      <td>0</td>\n",
       "      <td>0</td>\n",
       "      <td>Central Harlem</td>\n",
       "      <td>Manhattan</td>\n",
       "    </tr>\n",
       "    <tr>\n",
       "      <th>6</th>\n",
       "      <td>9077</td>\n",
       "      <td>1995</td>\n",
       "      <td>0.0</td>\n",
       "      <td>0</td>\n",
       "      <td>600</td>\n",
       "      <td>6</td>\n",
       "      <td>1.0</td>\n",
       "      <td>115</td>\n",
       "      <td>0</td>\n",
       "      <td>0</td>\n",
       "      <td>0</td>\n",
       "      <td>0</td>\n",
       "      <td>0</td>\n",
       "      <td>0</td>\n",
       "      <td>0</td>\n",
       "      <td>0</td>\n",
       "      <td>Midtown East</td>\n",
       "      <td>Manhattan</td>\n",
       "    </tr>\n",
       "    <tr>\n",
       "      <th>7</th>\n",
       "      <td>5150</td>\n",
       "      <td>2995</td>\n",
       "      <td>0.0</td>\n",
       "      <td>1</td>\n",
       "      <td>579</td>\n",
       "      <td>6</td>\n",
       "      <td>21.0</td>\n",
       "      <td>33</td>\n",
       "      <td>0</td>\n",
       "      <td>0</td>\n",
       "      <td>0</td>\n",
       "      <td>0</td>\n",
       "      <td>0</td>\n",
       "      <td>0</td>\n",
       "      <td>0</td>\n",
       "      <td>0</td>\n",
       "      <td>Battery Park City</td>\n",
       "      <td>Manhattan</td>\n",
       "    </tr>\n",
       "    <tr>\n",
       "      <th>8</th>\n",
       "      <td>9507</td>\n",
       "      <td>15000</td>\n",
       "      <td>2.0</td>\n",
       "      <td>2</td>\n",
       "      <td>1715</td>\n",
       "      <td>0</td>\n",
       "      <td>30.0</td>\n",
       "      <td>2</td>\n",
       "      <td>0</td>\n",
       "      <td>0</td>\n",
       "      <td>0</td>\n",
       "      <td>0</td>\n",
       "      <td>0</td>\n",
       "      <td>0</td>\n",
       "      <td>0</td>\n",
       "      <td>0</td>\n",
       "      <td>Flatiron</td>\n",
       "      <td>Manhattan</td>\n",
       "    </tr>\n",
       "    <tr>\n",
       "      <th>9</th>\n",
       "      <td>1437</td>\n",
       "      <td>4650</td>\n",
       "      <td>1.0</td>\n",
       "      <td>1</td>\n",
       "      <td>915</td>\n",
       "      <td>5</td>\n",
       "      <td>5.0</td>\n",
       "      <td>106</td>\n",
       "      <td>0</td>\n",
       "      <td>0</td>\n",
       "      <td>0</td>\n",
       "      <td>0</td>\n",
       "      <td>0</td>\n",
       "      <td>0</td>\n",
       "      <td>0</td>\n",
       "      <td>0</td>\n",
       "      <td>Upper East Side</td>\n",
       "      <td>Manhattan</td>\n",
       "    </tr>\n",
       "  </tbody>\n",
       "</table>\n",
       "</div>"
      ],
      "text/plain": [
       "   rental_id   rent  bedrooms  bathrooms  size_sqft  min_to_subway  floor   \n",
       "0       1545   2550       0.0          1        480              9    2.0  \\\n",
       "1       2472  11500       2.0          2       2000              4    1.0   \n",
       "2       2919   4500       1.0          1        916              2   51.0   \n",
       "3       2790   4795       1.0          1        975              3    8.0   \n",
       "4       3946  17500       2.0          2       4800              3    4.0   \n",
       "5      10817   3800       3.0          2       1100              3    5.0   \n",
       "6       9077   1995       0.0          0        600              6    1.0   \n",
       "7       5150   2995       0.0          1        579              6   21.0   \n",
       "8       9507  15000       2.0          2       1715              0   30.0   \n",
       "9       1437   4650       1.0          1        915              5    5.0   \n",
       "\n",
       "   building_age_yrs  no_fee  has_roofdeck  has_washer_dryer  has_doorman   \n",
       "0                17       1             1                 0            0  \\\n",
       "1                96       0             0                 0            0   \n",
       "2                29       0             1                 0            1   \n",
       "3                31       0             0                 0            1   \n",
       "4               136       0             0                 0            1   \n",
       "5               101       0             0                 0            0   \n",
       "6               115       0             0                 0            0   \n",
       "7                33       0             0                 0            0   \n",
       "8                 2       0             0                 0            0   \n",
       "9               106       0             0                 0            0   \n",
       "\n",
       "   has_elevator  has_dishwasher  has_patio  has_gym       neighborhood   \n",
       "0             1               1          0        1    Upper East Side  \\\n",
       "1             0               0          0        0  Greenwich Village   \n",
       "2             1               1          0        0            Midtown   \n",
       "3             1               1          0        1  Greenwich Village   \n",
       "4             1               1          0        1               Soho   \n",
       "5             0               0          0        0     Central Harlem   \n",
       "6             0               0          0        0       Midtown East   \n",
       "7             0               0          0        0  Battery Park City   \n",
       "8             0               0          0        0           Flatiron   \n",
       "9             0               0          0        0    Upper East Side   \n",
       "\n",
       "     borough  \n",
       "0  Manhattan  \n",
       "1  Manhattan  \n",
       "2  Manhattan  \n",
       "3  Manhattan  \n",
       "4  Manhattan  \n",
       "5  Manhattan  \n",
       "6  Manhattan  \n",
       "7  Manhattan  \n",
       "8  Manhattan  \n",
       "9  Manhattan  "
      ]
     },
     "execution_count": 9,
     "metadata": {},
     "output_type": "execute_result"
    }
   ],
   "source": [
    "df.head(10)"
   ]
  },
  {
   "cell_type": "markdown",
   "metadata": {},
   "source": [
    "The features **_rental_id_**, **_neighborhood_**, and **_borough_** immediately catch the eye. **_Rental_id_** introduces redundancy to the index, granting discriminatory power in accessing. Yet no discriminatory power relating to the regression problem, causing noise. While **_borough_** is supposedly exclusive to Manhattan, implying absence of discriminatory power. Such a borough consists of neighborhoods, categorical by nature and thereby vulnerable to rare occurrences."
   ]
  },
  {
   "cell_type": "code",
   "execution_count": 10,
   "metadata": {},
   "outputs": [
    {
     "name": "stdout",
     "output_type": "stream",
     "text": [
      "<class 'pandas.core.frame.DataFrame'>\n",
      "RangeIndex: 3539 entries, 0 to 3538\n",
      "Data columns (total 18 columns):\n",
      " #   Column            Non-Null Count  Dtype  \n",
      "---  ------            --------------  -----  \n",
      " 0   rental_id         3539 non-null   int64  \n",
      " 1   rent              3539 non-null   int64  \n",
      " 2   bedrooms          3539 non-null   float64\n",
      " 3   bathrooms         3539 non-null   int64  \n",
      " 4   size_sqft         3539 non-null   int64  \n",
      " 5   min_to_subway     3539 non-null   int64  \n",
      " 6   floor             3539 non-null   float64\n",
      " 7   building_age_yrs  3539 non-null   int64  \n",
      " 8   no_fee            3539 non-null   int64  \n",
      " 9   has_roofdeck      3539 non-null   int64  \n",
      " 10  has_washer_dryer  3539 non-null   int64  \n",
      " 11  has_doorman       3539 non-null   int64  \n",
      " 12  has_elevator      3539 non-null   int64  \n",
      " 13  has_dishwasher    3539 non-null   int64  \n",
      " 14  has_patio         3539 non-null   int64  \n",
      " 15  has_gym           3539 non-null   int64  \n",
      " 16  neighborhood      3539 non-null   object \n",
      " 17  borough           3539 non-null   object \n",
      "dtypes: float64(2), int64(14), object(2)\n",
      "memory usage: 497.8+ KB\n"
     ]
    }
   ],
   "source": [
    "df.info()"
   ]
  },
  {
   "cell_type": "markdown",
   "metadata": {},
   "source": [
    "Each of the 3,539 instances boasts these features along with others (rental properties) and a target (rent rate). Qualitative concerns relating to not a number occurences can thus be dismissed. Present occurrences demonstrate further meaningful data typing."
   ]
  },
  {
   "cell_type": "code",
   "execution_count": 11,
   "metadata": {},
   "outputs": [
    {
     "data": {
      "text/html": [
       "<div>\n",
       "<style scoped>\n",
       "    .dataframe tbody tr th:only-of-type {\n",
       "        vertical-align: middle;\n",
       "    }\n",
       "\n",
       "    .dataframe tbody tr th {\n",
       "        vertical-align: top;\n",
       "    }\n",
       "\n",
       "    .dataframe thead th {\n",
       "        text-align: right;\n",
       "    }\n",
       "</style>\n",
       "<table border=\"1\" class=\"dataframe\">\n",
       "  <thead>\n",
       "    <tr style=\"text-align: right;\">\n",
       "      <th></th>\n",
       "      <th>rental_id</th>\n",
       "      <th>rent</th>\n",
       "      <th>bedrooms</th>\n",
       "      <th>bathrooms</th>\n",
       "      <th>size_sqft</th>\n",
       "      <th>min_to_subway</th>\n",
       "      <th>floor</th>\n",
       "      <th>building_age_yrs</th>\n",
       "      <th>no_fee</th>\n",
       "      <th>has_roofdeck</th>\n",
       "      <th>has_washer_dryer</th>\n",
       "      <th>has_doorman</th>\n",
       "      <th>has_elevator</th>\n",
       "      <th>has_dishwasher</th>\n",
       "      <th>has_patio</th>\n",
       "      <th>has_gym</th>\n",
       "    </tr>\n",
       "  </thead>\n",
       "  <tbody>\n",
       "    <tr>\n",
       "      <th>mean</th>\n",
       "      <td>5332.589997</td>\n",
       "      <td>5138.940379</td>\n",
       "      <td>1.351936</td>\n",
       "      <td>1.366770</td>\n",
       "      <td>939.727324</td>\n",
       "      <td>4.970896</td>\n",
       "      <td>11.908307</td>\n",
       "      <td>51.994914</td>\n",
       "      <td>0.403504</td>\n",
       "      <td>0.154846</td>\n",
       "      <td>0.160215</td>\n",
       "      <td>0.281153</td>\n",
       "      <td>0.294716</td>\n",
       "      <td>0.185646</td>\n",
       "      <td>0.055100</td>\n",
       "      <td>0.174908</td>\n",
       "    </tr>\n",
       "    <tr>\n",
       "      <th>std</th>\n",
       "      <td>3311.552136</td>\n",
       "      <td>3162.824760</td>\n",
       "      <td>0.967595</td>\n",
       "      <td>0.599588</td>\n",
       "      <td>477.949074</td>\n",
       "      <td>5.513589</td>\n",
       "      <td>10.960893</td>\n",
       "      <td>39.380433</td>\n",
       "      <td>0.490669</td>\n",
       "      <td>0.361809</td>\n",
       "      <td>0.366857</td>\n",
       "      <td>0.449625</td>\n",
       "      <td>0.455979</td>\n",
       "      <td>0.388875</td>\n",
       "      <td>0.228208</td>\n",
       "      <td>0.379942</td>\n",
       "    </tr>\n",
       "    <tr>\n",
       "      <th>min</th>\n",
       "      <td>1.000000</td>\n",
       "      <td>1300.000000</td>\n",
       "      <td>0.000000</td>\n",
       "      <td>0.000000</td>\n",
       "      <td>250.000000</td>\n",
       "      <td>0.000000</td>\n",
       "      <td>0.000000</td>\n",
       "      <td>0.000000</td>\n",
       "      <td>0.000000</td>\n",
       "      <td>0.000000</td>\n",
       "      <td>0.000000</td>\n",
       "      <td>0.000000</td>\n",
       "      <td>0.000000</td>\n",
       "      <td>0.000000</td>\n",
       "      <td>0.000000</td>\n",
       "      <td>0.000000</td>\n",
       "    </tr>\n",
       "    <tr>\n",
       "      <th>25%</th>\n",
       "      <td>2443.500000</td>\n",
       "      <td>3150.000000</td>\n",
       "      <td>1.000000</td>\n",
       "      <td>1.000000</td>\n",
       "      <td>613.000000</td>\n",
       "      <td>2.000000</td>\n",
       "      <td>4.000000</td>\n",
       "      <td>15.000000</td>\n",
       "      <td>0.000000</td>\n",
       "      <td>0.000000</td>\n",
       "      <td>0.000000</td>\n",
       "      <td>0.000000</td>\n",
       "      <td>0.000000</td>\n",
       "      <td>0.000000</td>\n",
       "      <td>0.000000</td>\n",
       "      <td>0.000000</td>\n",
       "    </tr>\n",
       "    <tr>\n",
       "      <th>50%</th>\n",
       "      <td>5128.000000</td>\n",
       "      <td>4000.000000</td>\n",
       "      <td>1.000000</td>\n",
       "      <td>1.000000</td>\n",
       "      <td>800.000000</td>\n",
       "      <td>4.000000</td>\n",
       "      <td>8.000000</td>\n",
       "      <td>39.000000</td>\n",
       "      <td>0.000000</td>\n",
       "      <td>0.000000</td>\n",
       "      <td>0.000000</td>\n",
       "      <td>0.000000</td>\n",
       "      <td>0.000000</td>\n",
       "      <td>0.000000</td>\n",
       "      <td>0.000000</td>\n",
       "      <td>0.000000</td>\n",
       "    </tr>\n",
       "    <tr>\n",
       "      <th>75%</th>\n",
       "      <td>8149.500000</td>\n",
       "      <td>6000.000000</td>\n",
       "      <td>2.000000</td>\n",
       "      <td>2.000000</td>\n",
       "      <td>1141.000000</td>\n",
       "      <td>6.000000</td>\n",
       "      <td>17.000000</td>\n",
       "      <td>90.000000</td>\n",
       "      <td>1.000000</td>\n",
       "      <td>0.000000</td>\n",
       "      <td>0.000000</td>\n",
       "      <td>1.000000</td>\n",
       "      <td>1.000000</td>\n",
       "      <td>0.000000</td>\n",
       "      <td>0.000000</td>\n",
       "      <td>0.000000</td>\n",
       "    </tr>\n",
       "    <tr>\n",
       "      <th>max</th>\n",
       "      <td>11349.000000</td>\n",
       "      <td>20000.000000</td>\n",
       "      <td>5.000000</td>\n",
       "      <td>5.000000</td>\n",
       "      <td>4800.000000</td>\n",
       "      <td>43.000000</td>\n",
       "      <td>83.000000</td>\n",
       "      <td>180.000000</td>\n",
       "      <td>1.000000</td>\n",
       "      <td>1.000000</td>\n",
       "      <td>1.000000</td>\n",
       "      <td>1.000000</td>\n",
       "      <td>1.000000</td>\n",
       "      <td>1.000000</td>\n",
       "      <td>1.000000</td>\n",
       "      <td>1.000000</td>\n",
       "    </tr>\n",
       "  </tbody>\n",
       "</table>\n",
       "</div>"
      ],
      "text/plain": [
       "         rental_id          rent  bedrooms  bathrooms    size_sqft   \n",
       "mean   5332.589997   5138.940379  1.351936   1.366770   939.727324  \\\n",
       "std    3311.552136   3162.824760  0.967595   0.599588   477.949074   \n",
       "min       1.000000   1300.000000  0.000000   0.000000   250.000000   \n",
       "25%    2443.500000   3150.000000  1.000000   1.000000   613.000000   \n",
       "50%    5128.000000   4000.000000  1.000000   1.000000   800.000000   \n",
       "75%    8149.500000   6000.000000  2.000000   2.000000  1141.000000   \n",
       "max   11349.000000  20000.000000  5.000000   5.000000  4800.000000   \n",
       "\n",
       "      min_to_subway      floor  building_age_yrs    no_fee  has_roofdeck   \n",
       "mean       4.970896  11.908307         51.994914  0.403504      0.154846  \\\n",
       "std        5.513589  10.960893         39.380433  0.490669      0.361809   \n",
       "min        0.000000   0.000000          0.000000  0.000000      0.000000   \n",
       "25%        2.000000   4.000000         15.000000  0.000000      0.000000   \n",
       "50%        4.000000   8.000000         39.000000  0.000000      0.000000   \n",
       "75%        6.000000  17.000000         90.000000  1.000000      0.000000   \n",
       "max       43.000000  83.000000        180.000000  1.000000      1.000000   \n",
       "\n",
       "      has_washer_dryer  has_doorman  has_elevator  has_dishwasher  has_patio   \n",
       "mean          0.160215     0.281153      0.294716        0.185646   0.055100  \\\n",
       "std           0.366857     0.449625      0.455979        0.388875   0.228208   \n",
       "min           0.000000     0.000000      0.000000        0.000000   0.000000   \n",
       "25%           0.000000     0.000000      0.000000        0.000000   0.000000   \n",
       "50%           0.000000     0.000000      0.000000        0.000000   0.000000   \n",
       "75%           0.000000     1.000000      1.000000        0.000000   0.000000   \n",
       "max           1.000000     1.000000      1.000000        1.000000   1.000000   \n",
       "\n",
       "       has_gym  \n",
       "mean  0.174908  \n",
       "std   0.379942  \n",
       "min   0.000000  \n",
       "25%   0.000000  \n",
       "50%   0.000000  \n",
       "75%   0.000000  \n",
       "max   1.000000  "
      ]
     },
     "execution_count": 11,
     "metadata": {},
     "output_type": "execute_result"
    }
   ],
   "source": [
    "df.describe().iloc[1:]"
   ]
  },
  {
   "cell_type": "markdown",
   "metadata": {},
   "source": [
    "The distributions of occurrences suggest the presence of outliers, particularly in features such as **_bedrooms_**, **_bathrooms_**, **_size_sqft_**, **_min_to_subway_**, and **_floor_**, as well as in the target (**_rent_**). As notably, both the minimum and the three quartiles tend to be closely situated as compared to the maximum. Outlier density varies, tending to be greater as standard deviations approach means. Nearer these means are to the third quartile, the more extreme the trend. All other non-binary distributions fall within non-alarming ranges. Binary features do not prove overwhelmingly true, indicative of their discriminative power."
   ]
  },
  {
   "cell_type": "markdown",
   "metadata": {},
   "source": [
    "<p style=\"background-color:#032765; font-family: newtimeroman; color: #ffffff; font-size: 200%; text-align: center; border-radius: 10px 10px;\">Task 4 - EDA, Preprocessing</p>"
   ]
  },
  {
   "cell_type": "markdown",
   "metadata": {},
   "source": [
    "This chapter concerns the preprocessing of features and targets, in preparation for downstream baselines and neural networks. Preprocessing assumes further investigation at the granularity level of a feature or target, based in part on previously acquired evidence.\n",
    "\n",
    "Among these features, **_rental_id_**, **_neighborhood_**, and **_borough_** stood out. **_Rental_id_** and **_borough_** were to be discarded for their discriminatory power. Manhattan should, however, be verified as the only borough, so as not to contaminate, introducing noise."
   ]
  },
  {
   "cell_type": "code",
   "execution_count": 12,
   "metadata": {},
   "outputs": [
    {
     "data": {
      "text/plain": [
       "0"
      ]
     },
     "execution_count": 12,
     "metadata": {},
     "output_type": "execute_result"
    }
   ],
   "source": [
    "#check for duplicate instances\n",
    "len(df[df.duplicated(keep = False)])"
   ]
  },
  {
   "cell_type": "code",
   "execution_count": 13,
   "metadata": {},
   "outputs": [
    {
     "name": "stdout",
     "output_type": "stream",
     "text": [
      "1\n"
     ]
    }
   ],
   "source": [
    "#check if single borough apparent\n",
    "print(df[\"borough\"].nunique())"
   ]
  },
  {
   "cell_type": "code",
   "execution_count": 14,
   "metadata": {},
   "outputs": [],
   "source": [
    "df.drop(\n",
    "    columns = [\n",
    "        \"rental_id\",\n",
    "        \"borough\"\n",
    "    ],\n",
    "    inplace = True\n",
    ")"
   ]
  },
  {
   "cell_type": "markdown",
   "metadata": {},
   "source": [
    "Assumptions about a single borough are verified, giving rise to the drop. However, dropping should be performed following a duplicate instance check. A critical step, as duplicates falsely emphasize patterns, introducing bias. Yet no duplicates exist."
   ]
  },
  {
   "cell_type": "code",
   "execution_count": 15,
   "metadata": {},
   "outputs": [
    {
     "data": {
      "text/plain": [
       "neighborhood\n",
       "Upper West Side        579\n",
       "Upper East Side        500\n",
       "Midtown East           460\n",
       "Midtown West           314\n",
       "Financial District     268\n",
       "Chelsea                182\n",
       "Flatiron               132\n",
       "Midtown                119\n",
       "Tribeca                119\n",
       "East Village           108\n",
       "Battery Park City      104\n",
       "Midtown South           85\n",
       "Central Harlem          82\n",
       "West Village            67\n",
       "Greenwich Village       66\n",
       "Gramercy Park           61\n",
       "Soho                    58\n",
       "Washington Heights      54\n",
       "East Harlem             41\n",
       "Lower East Side         41\n",
       "Central Park South      23\n",
       "Hamilton Heights        16\n",
       "Morningside Heights     13\n",
       "Inwood                  12\n",
       "Nolita                   9\n",
       "Chinatown                8\n",
       "Roosevelt Island         5\n",
       "Long Island City         4\n",
       "Stuyvesant Town/PCV      3\n",
       "Little Italy             3\n",
       "West Harlem              2\n",
       "Manhattanville           1\n",
       "Name: count, dtype: int64"
      ]
     },
     "execution_count": 15,
     "metadata": {},
     "output_type": "execute_result"
    }
   ],
   "source": [
    "df[\"neighborhood\"].value_counts()"
   ]
  },
  {
   "cell_type": "markdown",
   "metadata": {},
   "source": [
    "While rare occurrences were probable to arise in neighborhoods, as validated by a check. Those should be treated as a measure of downstream split representativeness. In doing so grasp of variations shall be balanced with discriminatory power."
   ]
  },
  {
   "cell_type": "code",
   "execution_count": 16,
   "metadata": {},
   "outputs": [],
   "source": [
    "df = (df[df[\"neighborhood\"] != \"Long Island City\"]\n",
    "      .replace(\n",
    "          to_replace = {\n",
    "              \"Battery Park City\": \"community_board_1\",\n",
    "              \"Financial District\": \"community_board_1\",\n",
    "              \"Tribeca\": \"community_board_1\",\n",
    "              \"Greenwich Village\": \"community_board_2\",\n",
    "              \"Little Italy\": \"community_board_2\",\n",
    "              \"Nolita\": \"community_board_2\",\n",
    "              \"Soho\": \"community_board_2\",\n",
    "              \"West Village\": \"community_board_2\",\n",
    "              \"Chinatown\": \"community_board_3\",\n",
    "              \"East Village\": \"community_board_3\",\n",
    "              \"Lower East Side\": \"community_board_3\",\n",
    "              \"Chelsea\": \"community_board_4\",\n",
    "              \"Midtown West\": \"community_board_4\",\n",
    "              \"Central Park South\": \"community_board_5\",\n",
    "              \"Flatiron\": \"community_board_5\",\n",
    "              \"Midtown\": \"community_board_5\",\n",
    "              \"Midtown South\": \"community_board_5\",\n",
    "              \"Gramercy Park\": \"community_board_6\",\n",
    "              \"Midtown East\": \"community_board_6\",\n",
    "              \"Stuyvesant Town/PCV\": \"community_board_6\",\n",
    "              \"Upper West Side\": \"community_board_7\",\n",
    "              \"Upper East Side\": \"community_board_8\",\n",
    "              \"Roosevelt Island\": \"community_board_8\",\n",
    "              \"Hamilton Heights\": \"community_board_9\",\n",
    "              \"Manhattanville\": \"community_board_9\",\n",
    "              \"Morningside Heights\": \"community_board_9\",\n",
    "              \"West Harlem\": \"community_board_9\",\n",
    "              \"Central Harlem\": \"community_board_10\",\n",
    "              \"East Harlem\": \"community_board_11\",\n",
    "              \"Inwood\": \"community_board_12\",\n",
    "              \"Washington Heights\": \"community_board_12\"\n",
    "          }\n",
    "      )\n",
    ")"
   ]
  },
  {
   "cell_type": "markdown",
   "metadata": {},
   "source": [
    "Community boards, sharing advisory roles in areas such as city budgets or municipal service delivery, allow for such a balance. Neighborhoods are, therefore, relegated in granularity to community boards. With Long Island City specifically excluded due to its affiliation with Queens, causing noise prior mentioned."
   ]
  },
  {
   "cell_type": "code",
   "execution_count": 17,
   "metadata": {},
   "outputs": [
    {
     "data": {
      "image/png": "[encoded data removed]",
      "text/plain": [
       "<Figure size 800x3000 with 6 Axes>"
      ]
     },
     "metadata": {},
     "output_type": "display_data"
    }
   ],
   "source": [
    "title = \"Boxplots on Feature Distribution\"\n",
    "\n",
    "feats = [\n",
    "    df[[\"bedrooms\", \"bathrooms\"]], \n",
    "    df[[\"size_sqft\"]], \n",
    "    df[[\"min_to_subway\"]],\n",
    "    df[[\"floor\"]],\n",
    "    df[[\"building_age_yrs\"]],\n",
    "    df[[\"rent\"]]\n",
    "]\n",
    "\n",
    "labels = [\n",
    "    \"Rooms\",\n",
    "    \"Square Feet\",\n",
    "    \"Minutes\",\n",
    "    \"Floor\",\n",
    "    \"Years\",\n",
    "    \"US Dollar\"\n",
    "]\n",
    "\n",
    "num = len(feats)\n",
    "fig, axs = plt.subplots(nrows = num, \n",
    "                        ncols = 1, \n",
    "                        figsize = (8, (num * 5)))\n",
    "for ax, feat, label in zip(axs, feats, labels):\n",
    "    ax.boxplot(\n",
    "        x = feat,\n",
    "        labels = feat.columns,\n",
    "        patch_artist = True,\n",
    "        boxprops = dict(\n",
    "            facecolor = \"#dcf6ff\",\n",
    "            edgecolor = \"#032765\"\n",
    "        ),\n",
    "        capprops = dict(\n",
    "            color = \"#032765\"\n",
    "        ),\n",
    "        flierprops = dict(\n",
    "            markerfacecolor = \"#ff0f0f\",\n",
    "            markeredgecolor = \"#ff0f0f\"\n",
    "        ),\n",
    "        medianprops = dict(\n",
    "            color = \"#ff0f0f\"\n",
    "        ),\n",
    "        whiskerprops = dict(\n",
    "            color = \"#032765\"\n",
    "        )\n",
    "    );\n",
    "    ax.set_ylabel(ylabel = label);\n",
    "fig.suptitle(t = title,\n",
    "             y = 0.9);"
   ]
  },
  {
   "cell_type": "markdown",
   "metadata": {},
   "source": [
    "Continuous features and target on the other hand raised suspicions regarding outlier affections. Assumptions ascribed seem valid in light of the boxplots presented."
   ]
  },
  {
   "cell_type": "code",
   "execution_count": 18,
   "metadata": {},
   "outputs": [
    {
     "data": {
      "text/html": [
       "<div>\n",
       "<style scoped>\n",
       "    .dataframe tbody tr th:only-of-type {\n",
       "        vertical-align: middle;\n",
       "    }\n",
       "\n",
       "    .dataframe tbody tr th {\n",
       "        vertical-align: top;\n",
       "    }\n",
       "\n",
       "    .dataframe thead tr th {\n",
       "        text-align: left;\n",
       "    }\n",
       "</style>\n",
       "<table border=\"1\" class=\"dataframe\">\n",
       "  <thead>\n",
       "    <tr>\n",
       "      <th></th>\n",
       "      <th colspan=\"2\" halign=\"left\">rent</th>\n",
       "    </tr>\n",
       "    <tr>\n",
       "      <th></th>\n",
       "      <th>min</th>\n",
       "      <th>max</th>\n",
       "    </tr>\n",
       "  </thead>\n",
       "  <tbody>\n",
       "    <tr>\n",
       "      <th>1</th>\n",
       "      <td>3299</td>\n",
       "      <td>3308</td>\n",
       "    </tr>\n",
       "    <tr>\n",
       "      <th>8</th>\n",
       "      <td>1600</td>\n",
       "      <td>1790</td>\n",
       "    </tr>\n",
       "    <tr>\n",
       "      <th>9</th>\n",
       "      <td>2595</td>\n",
       "      <td>2750</td>\n",
       "    </tr>\n",
       "    <tr>\n",
       "      <th>10</th>\n",
       "      <td>2600</td>\n",
       "      <td>2650</td>\n",
       "    </tr>\n",
       "    <tr>\n",
       "      <th>11</th>\n",
       "      <td>3999</td>\n",
       "      <td>4400</td>\n",
       "    </tr>\n",
       "    <tr>\n",
       "      <th>13</th>\n",
       "      <td>7495</td>\n",
       "      <td>7795</td>\n",
       "    </tr>\n",
       "    <tr>\n",
       "      <th>15</th>\n",
       "      <td>3340</td>\n",
       "      <td>3545</td>\n",
       "    </tr>\n",
       "    <tr>\n",
       "      <th>16</th>\n",
       "      <td>2595</td>\n",
       "      <td>2600</td>\n",
       "    </tr>\n",
       "    <tr>\n",
       "      <th>18</th>\n",
       "      <td>3400</td>\n",
       "      <td>3650</td>\n",
       "    </tr>\n",
       "    <tr>\n",
       "      <th>19</th>\n",
       "      <td>3150</td>\n",
       "      <td>3300</td>\n",
       "    </tr>\n",
       "    <tr>\n",
       "      <th>23</th>\n",
       "      <td>7500</td>\n",
       "      <td>8150</td>\n",
       "    </tr>\n",
       "    <tr>\n",
       "      <th>24</th>\n",
       "      <td>4900</td>\n",
       "      <td>4950</td>\n",
       "    </tr>\n",
       "    <tr>\n",
       "      <th>25</th>\n",
       "      <td>2495</td>\n",
       "      <td>2500</td>\n",
       "    </tr>\n",
       "    <tr>\n",
       "      <th>27</th>\n",
       "      <td>2700</td>\n",
       "      <td>2750</td>\n",
       "    </tr>\n",
       "    <tr>\n",
       "      <th>28</th>\n",
       "      <td>5995</td>\n",
       "      <td>6495</td>\n",
       "    </tr>\n",
       "    <tr>\n",
       "      <th>30</th>\n",
       "      <td>7995</td>\n",
       "      <td>8995</td>\n",
       "    </tr>\n",
       "    <tr>\n",
       "      <th>31</th>\n",
       "      <td>4795</td>\n",
       "      <td>5295</td>\n",
       "    </tr>\n",
       "    <tr>\n",
       "      <th>38</th>\n",
       "      <td>6200</td>\n",
       "      <td>6400</td>\n",
       "    </tr>\n",
       "    <tr>\n",
       "      <th>39</th>\n",
       "      <td>14950</td>\n",
       "      <td>17000</td>\n",
       "    </tr>\n",
       "  </tbody>\n",
       "</table>\n",
       "</div>"
      ],
      "text/plain": [
       "     rent       \n",
       "      min    max\n",
       "1    3299   3308\n",
       "8    1600   1790\n",
       "9    2595   2750\n",
       "10   2600   2650\n",
       "11   3999   4400\n",
       "13   7495   7795\n",
       "15   3340   3545\n",
       "16   2595   2600\n",
       "18   3400   3650\n",
       "19   3150   3300\n",
       "23   7500   8150\n",
       "24   4900   4950\n",
       "25   2495   2500\n",
       "27   2700   2750\n",
       "28   5995   6495\n",
       "30   7995   8995\n",
       "31   4795   5295\n",
       "38   6200   6400\n",
       "39  14950  17000"
      ]
     },
     "execution_count": 18,
     "metadata": {},
     "output_type": "execute_result"
    }
   ],
   "source": [
    "feats = df.iloc[:, 1:]\n",
    "df_dup = (df.loc[feats[feats.duplicated(keep = False)].index]\n",
    "          .groupby(\n",
    "              by = list(\n",
    "                  feats.columns\n",
    "              )\n",
    "          )\n",
    "          .agg(\n",
    "              func = {\n",
    "                  \"rent\": [\"min\", \"max\"]\n",
    "              }\n",
    "          )\n",
    "          .reset_index(\n",
    "              drop = True \n",
    "          )\n",
    ")\n",
    "df_dup[(df_dup[(\"rent\", \"min\")] != df_dup[(\"rent\", \"max\")])]"
   ]
  },
  {
   "cell_type": "markdown",
   "metadata": {},
   "source": [
    "An outlier, sharing a conflicting duplicate with a non-outlier, would cause downstream struggle. Struggle, as in attempts to minimize overall error, leading to compromises not fair to either end. Given the foregoing context, contradictory duplicates should be sought. By doing so, 19 contradictory duplicate groups were found. However, all of them pose insignificant variations, allowing regressor coping."
   ]
  },
  {
   "cell_type": "code",
   "execution_count": 19,
   "metadata": {},
   "outputs": [],
   "source": [
    "tars = df.loc[:, [\"rent\"]]\n",
    "feats = df.drop(\"rent\", \n",
    "                axis = 1)"
   ]
  },
  {
   "cell_type": "markdown",
   "metadata": {},
   "source": [
    "Preprocessed features and target are subsequently separated to be split downstream."
   ]
  },
  {
   "cell_type": "code",
   "execution_count": 20,
   "metadata": {},
   "outputs": [],
   "source": [
    "X_train_full, X_test, y_train_full, y_test = train_test_split(\n",
    "    feats, \n",
    "    tars, \n",
    "    test_size = 0.2, \n",
    "    shuffle = True, \n",
    "    stratify = feats[\"neighborhood\"], \n",
    "    random_state = random_state\n",
    ")\n",
    "\n",
    "X_train, X_val, y_train, y_val = train_test_split(\n",
    "    X_train_full, \n",
    "    y_train_full, \n",
    "    test_size = 0.25, \n",
    "    shuffle = True, \n",
    "    stratify = X_train_full[\"neighborhood\"],\n",
    "    random_state = random_state\n",
    ")"
   ]
  },
  {
   "cell_type": "markdown",
   "metadata": {},
   "source": [
    "Splitting is performed as evaluation of a model should not be conducted with the same data as training. By evaluating based on training data, data is more likely to be memorized rather than capturing underlying patterns. Memorization comes at the expense of generalizability to unseen data, leading to overfitting. \n",
    "\n",
    "Deep learning involves two instances of evaluation. First, evaluation for determination of training's optimal state. Secondly, evaluation of the optimal state, as data leakage occurs due to the determination described.\n",
    "\n",
    "As part of the hyperparameters, shuffle was enabled to mitigate potential order bias, which may be introduced by the original order of instances. The split of 60% training, 20% validation, and 20% test was chosen. 3,539 instances drive such decision, necessitating greater proportions of training required to capture patterns, with sufficient evaluation sizes to ensure reliable quality. \n",
    "\n",
    "Further consideration should be given to the community boards, encapsulating a range of factors, justifying premiums or concessions. The way to ensure fair representation is by stratification, preventing undercoverage bias.\n",
    "\n",
    "Split scaling is imperative for linear regression and neural networks. Given the sensitivity of the underlying optimizations to feature magnitudes. Sensitively, as greater magnitude coincides with stronger weight implications. Models with large weights tend to be unstable, causing poor learning performance and higher generalization errors. Large weights may also result from high error gradients caused by the target magnitude in neural networks, assuming its scaling. As a step towards scaler selection, features are further tested."
   ]
  },
  {
   "cell_type": "code",
   "execution_count": 21,
   "metadata": {},
   "outputs": [
    {
     "data": {
      "text/html": [
       "<div>\n",
       "<style scoped>\n",
       "    .dataframe tbody tr th:only-of-type {\n",
       "        vertical-align: middle;\n",
       "    }\n",
       "\n",
       "    .dataframe tbody tr th {\n",
       "        vertical-align: top;\n",
       "    }\n",
       "\n",
       "    .dataframe thead th {\n",
       "        text-align: right;\n",
       "    }\n",
       "</style>\n",
       "<table border=\"1\" class=\"dataframe\">\n",
       "  <thead>\n",
       "    <tr style=\"text-align: right;\">\n",
       "      <th></th>\n",
       "      <th>feature</th>\n",
       "      <th>sw_test</th>\n",
       "      <th>ks_test</th>\n",
       "    </tr>\n",
       "  </thead>\n",
       "  <tbody>\n",
       "    <tr>\n",
       "      <th>0</th>\n",
       "      <td>rent</td>\n",
       "      <td>0.0</td>\n",
       "      <td>0.0</td>\n",
       "    </tr>\n",
       "    <tr>\n",
       "      <th>1</th>\n",
       "      <td>bedrooms</td>\n",
       "      <td>0.0</td>\n",
       "      <td>0.0</td>\n",
       "    </tr>\n",
       "    <tr>\n",
       "      <th>2</th>\n",
       "      <td>bathrooms</td>\n",
       "      <td>0.0</td>\n",
       "      <td>0.0</td>\n",
       "    </tr>\n",
       "    <tr>\n",
       "      <th>3</th>\n",
       "      <td>size_sqft</td>\n",
       "      <td>0.0</td>\n",
       "      <td>0.0</td>\n",
       "    </tr>\n",
       "    <tr>\n",
       "      <th>4</th>\n",
       "      <td>min_to_subway</td>\n",
       "      <td>0.0</td>\n",
       "      <td>0.0</td>\n",
       "    </tr>\n",
       "    <tr>\n",
       "      <th>5</th>\n",
       "      <td>floor</td>\n",
       "      <td>0.0</td>\n",
       "      <td>0.0</td>\n",
       "    </tr>\n",
       "    <tr>\n",
       "      <th>6</th>\n",
       "      <td>building_age_yrs</td>\n",
       "      <td>0.0</td>\n",
       "      <td>0.0</td>\n",
       "    </tr>\n",
       "  </tbody>\n",
       "</table>\n",
       "</div>"
      ],
      "text/plain": [
       "            feature  sw_test  ks_test\n",
       "0              rent      0.0      0.0\n",
       "1          bedrooms      0.0      0.0\n",
       "2         bathrooms      0.0      0.0\n",
       "3         size_sqft      0.0      0.0\n",
       "4     min_to_subway      0.0      0.0\n",
       "5             floor      0.0      0.0\n",
       "6  building_age_yrs      0.0      0.0"
      ]
     },
     "execution_count": 21,
     "metadata": {},
     "output_type": "execute_result"
    }
   ],
   "source": [
    "round_lim = 10\n",
    "pd.DataFrame(data = [\n",
    "    {\n",
    "        \"feature\": feat,\n",
    "        \"sw_test\": np.round(\n",
    "            stats.shapiro(x = df[feat])[1], \n",
    "            round_lim\n",
    "        ),\n",
    "        \"ks_test\": np.round(\n",
    "            stats.kstest(rvs = df[feat], cdf = \"norm\")[1], \n",
    "            round_lim\n",
    "        )\n",
    "    }\n",
    "    for feat in df.iloc[:, :7]\n",
    "])"
   ]
  },
  {
   "cell_type": "markdown",
   "metadata": {},
   "source": [
    "Distribution curves of features are therefore evaluated for Gaussian shape adherence. Indications of Gaussian distributions are drawn by the Shapiro-Wilk and Kolmogorow-Smirnow tests. Binary features are omitted within those tests, as Gaussian constitutes a continuous distribution probability. Tests yield p-values close to zero, well below the significance level of 0.05. Gaussian distribution appears thus unlikely.\n",
    "\n",
    "Standard scalers assume, however, such Gaussian distributions. As a consequence, underlying z-scores may be miscentering, causing potential significance bias. Min-max scalers are, by contrast, prone to outliers due to their direct influence. Thus, an outlier may raise the maximum, narrowing majorities, which causes information loss. Those conditions favor the robust scaler."
   ]
  },
  {
   "cell_type": "code",
   "execution_count": 22,
   "metadata": {},
   "outputs": [],
   "source": [
    "class preparation():\n",
    "    def __init__(self, feats_dfs, tars_dfs, scaler):\n",
    "        self.feats_dfs = feats_dfs\n",
    "        self.tars_dfs = tars_dfs\n",
    "        self.scaler = scaler\n",
    "\n",
    "    #initialize scaler\n",
    "    def init_scaler(self, df):\n",
    "        scaler = self.scaler\n",
    "        return scaler.fit(df)\n",
    "\n",
    "    #dummy encode input\n",
    "    def dummify(self, df, dmy_cols):\n",
    "        return pd.get_dummies(\n",
    "            data = df,\n",
    "            columns = dmy_cols,\n",
    "            drop_first = True,\n",
    "            dtype = int\n",
    "        )\n",
    "    \n",
    "    #cast scaled input to tensor\n",
    "    def transform(self, df, scaler):\n",
    "        return torch.Tensor(scaler.transform(df))\n",
    "    \n",
    "    #dummify, scale, and transform features\n",
    "    def prep_feats(self, fit_index, dmy_cols):\n",
    "        self.feats_scaler = self.init_scaler(\n",
    "            self.dummify(self.feats_dfs[fit_index], dmy_cols)\n",
    "        )\n",
    "        self.feats = [\n",
    "            self.transform(self.dummify(df, dmy_cols), self.feats_scaler)\n",
    "            for df in self.feats_dfs\n",
    "        ]\n",
    "    \n",
    "    #scale and transform targets\n",
    "    def prep_tars(self, fit_index):\n",
    "        self.tars_scaler = self.init_scaler(self.tars_dfs[fit_index])\n",
    "        self.tars = [\n",
    "            self.transform(df, self.tars_scaler)\n",
    "            for df in self.tars_dfs\n",
    "        ]\n",
    "    \n",
    "feats_dfs = [\n",
    "    X_train_full,\n",
    "    X_train,\n",
    "    X_val,\n",
    "    X_test\n",
    "]\n",
    "\n",
    "tars_dfs = [\n",
    "    y_train_full,\n",
    "    y_train,\n",
    "    y_val,\n",
    "    y_test\n",
    "]\n",
    "\n",
    "prep = preparation(feats_dfs, tars_dfs, RobustScaler())\n",
    "\n",
    "def prep_wrapper(fit_index):\n",
    "    prep.prep_feats(fit_index, [\"neighborhood\"])\n",
    "    prep.prep_tars(fit_index)"
   ]
  },
  {
   "cell_type": "markdown",
   "metadata": {},
   "source": [
    "Feature scaling requires **_neighborhood_** treatment, performed at a downstream stage to allow stratification. Community boards within **_neighborhood_** are largely independent, suggesting dummy encoding. Once encoded, scaling can take place. Scalers themselves are fitted on training and validation data for features and targets, respectively. Test data is deliberately excluded to prevent data leakage."
   ]
  },
  {
   "cell_type": "markdown",
   "metadata": {},
   "source": [
    "<p style=\"background-color:#032765; font-family: newtimeroman; color: #ffffff; font-size: 200%; text-align: center; border-radius: 10px 10px;\">Task 5 - Baselines</p>"
   ]
  },
  {
   "cell_type": "markdown",
   "metadata": {},
   "source": [
    "Baselines are explored in the following chapter, as a reference for sanity in later, more complex approaches. Such baselines are rooted in dummy and simple machine learning models, built on previously preprocessed data."
   ]
  },
  {
   "cell_type": "code",
   "execution_count": 23,
   "metadata": {},
   "outputs": [],
   "source": [
    "prep_wrapper(1)"
   ]
  },
  {
   "cell_type": "markdown",
   "metadata": {},
   "source": [
    "It is crucial to note that the preprocessed data's scaler exclusively fits on the training partition. As the validation partition does not actively engage in training, introducing data leakage at no value."
   ]
  },
  {
   "cell_type": "code",
   "execution_count": 24,
   "metadata": {},
   "outputs": [],
   "source": [
    "#predict target based on dummy regressor\n",
    "def dmy_preds(reg_dmy, ptns_feats):\n",
    "    return [\n",
    "        (\n",
    "            torch.Tensor(\n",
    "                reg_dmy.predict(X = ptn_feats)\n",
    "            )\n",
    "            .unsqueeze(1)\n",
    "        )\n",
    "        for ptn_feats in ptns_feats\n",
    "    ]\n",
    "\n",
    "#construct and train dummy regressor\n",
    "dmy_baseline = (\n",
    "    DummyRegressor(\n",
    "        strategy = \"median\"\n",
    "    )\n",
    "    .fit(prep.feats[1], y_train)\n",
    ")\n",
    "\n",
    "dmy__preds = dmy_preds(dmy_baseline, prep.feats[1:])"
   ]
  },
  {
   "cell_type": "markdown",
   "metadata": {},
   "source": [
    "Scaled data serves first the most basic baseline of a dummy regressor. Strategy choice for such regressor is driven by outliers and their impact on the central tendency, suggesting median. Medians establish robustness, as opposed to outlier-skewed means. As the median depends upon the targets, feature scaling has no bearing, negating additional preparation efforts."
   ]
  },
  {
   "cell_type": "code",
   "execution_count": 25,
   "metadata": {},
   "outputs": [],
   "source": [
    "#predict target based on ml regressor\n",
    "def ml_preds(reg_ml, ptns_feats):\n",
    "    return [\n",
    "        reg_ml.predict(ptn_feats)\n",
    "        for ptn_feats in ptns_feats\n",
    "    ]\n",
    "\n",
    "#construct and train linear regressor\n",
    "ml_baseline = (\n",
    "    LinearRegression()\n",
    "    .fit(\n",
    "        X = prep.feats[1],\n",
    "        y = y_train\n",
    "    )\n",
    ")\n",
    "\n",
    "ml__preds = ml_preds(ml_baseline, prep.feats[1:])"
   ]
  },
  {
   "cell_type": "markdown",
   "metadata": {},
   "source": [
    "Linear regression serves as the machine learning counterpart to the dummy regressor. Particularly, this algorithm for its simplicity, often regarded as industry standard for regression baselines. Those baselines constitute predictions. Assumed predictions are emitted for training, validation and testing according to both approaches."
   ]
  },
  {
   "cell_type": "markdown",
   "metadata": {},
   "source": [
    "<p style=\"background-color:#032765; font-family: newtimeroman; color: #ffffff; font-size: 200%; text-align: center; border-radius: 10px 10px;\">Task 6 - Deep Learning Experiments</p>"
   ]
  },
  {
   "cell_type": "markdown",
   "metadata": {},
   "source": [
    "This chapter delves into the exploration of neural networks as rental rate estimators. By doing so, architecture spectrums are investigated, guiding hyperparameter optimization."
   ]
  },
  {
   "cell_type": "code",
   "execution_count": 26,
   "metadata": {},
   "outputs": [],
   "source": [
    "class MultiLayerPerceptron(torch.nn.Module):\n",
    "    def __init__(self, layers, activation):\n",
    "        super(MultiLayerPerceptron, self).__init__()\n",
    "        self.hidden_layers = torch.nn.ModuleList(\n",
    "            [\n",
    "                torch.nn.Linear(*layer)\n",
    "                for layer in layers\n",
    "            ]\n",
    "        )\n",
    "        self.activation = activation\n",
    "    \n",
    "    #predict target based on neural network\n",
    "    def forward(self, ptn_feats):\n",
    "        for layer in self.hidden_layers[:-1]:\n",
    "            ptn_feats = self.activation(layer(ptn_feats))\n",
    "        return self.hidden_layers[-1](ptn_feats)"
   ]
  },
  {
   "cell_type": "markdown",
   "metadata": {},
   "source": [
    "Architecture refers to the composition of a multilayer perceptron. Composition may vary across layers, neurons, and activation functions."
   ]
  },
  {
   "cell_type": "code",
   "execution_count": 27,
   "metadata": {},
   "outputs": [],
   "source": [
    "class model_trainer():\n",
    "\n",
    "    ########################################################################################################################\n",
    "    #initialize class attributes\n",
    "    ########################################################################################################################\n",
    "\n",
    "    #partitions and reproducibility\n",
    "    def __init__(self, X_train_full, X_train, X_val, y_train_full, y_train, y_val, y_scaler):\n",
    "        self.X_train_full = X_train_full\n",
    "        self.X_train = X_train\n",
    "        self.X_val = X_val\n",
    "        self.y_train_full = y_train_full\n",
    "        self.y_train = y_train\n",
    "        self.y_val = y_val\n",
    "        self.y_scaler = y_scaler\n",
    "\n",
    "        self.random_state = 42\n",
    "\n",
    "    #reproducibility\n",
    "    def init_seeds(self):\n",
    "        random.seed(42)\n",
    "        torch.manual_seed(42)\n",
    "\n",
    "    #hyperparameters\n",
    "    def init_hparms(self, criterion, es_threshold, es_patience, opt_eval, train_eval, learning_rate, max_epochs, optimizer):\n",
    "        self.init_seeds()\n",
    "        self.criterion = criterion\n",
    "        self.es_threshold = es_threshold\n",
    "        self.es_patience = es_patience\n",
    "        self.learning_rate = learning_rate\n",
    "        self.max_epochs = max_epochs\n",
    "        self.train_eval = train_eval\n",
    "        self.optimizer = optimizer\n",
    "        self.opt_eval = opt_eval\n",
    "\n",
    "    #update class attributes\n",
    "    def updt_hparms(self, **kwargs):\n",
    "        self.init_seeds()\n",
    "        for key, value in kwargs.items():\n",
    "            setattr(self, key, value)\n",
    "\n",
    "    ########################################################################################################################\n",
    "\n",
    "\n",
    "    ########################################################################################################################\n",
    "    #shortcuts\n",
    "    ########################################################################################################################\n",
    "\n",
    "    #display table row\n",
    "    def print_row(self, data_points, spaces):\n",
    "        return \"\".join(\n",
    "            f\"|{data_point:^{space}}|\" \n",
    "            for data_point, space in zip(data_points, spaces)\n",
    "        )\n",
    "\n",
    "    #display grid lines\n",
    "    def print_seps(self, seps):\n",
    "        return \"-\" * seps\n",
    "    \n",
    "    #deepcopy neural network\n",
    "    def copy_model(self, model):\n",
    "        return copy.deepcopy(model.state_dict())\n",
    "\n",
    "    ########################################################################################################################\n",
    "\n",
    "\n",
    "    ########################################################################################################################\n",
    "    #compute estimation\n",
    "    ########################################################################################################################\n",
    "\n",
    "    #estimate loss metric\n",
    "    def preds_loss(self, model, ptn_feats, ptn_tars):\n",
    "        ptn_preds = model(ptn_feats)\n",
    "        return ptn_preds, self.criterion(\n",
    "            ptn_preds,\n",
    "            ptn_tars\n",
    "        )\n",
    "    \n",
    "    #unscale estimations\n",
    "    def inv_preds(self, ptn_preds, scaler):\n",
    "        return [\n",
    "            scaler.inverse_transform(X = ptn_pred)\n",
    "            for ptn_pred in ptn_preds\n",
    "        ]\n",
    "    \n",
    "    #estimate evaluation metric (e.g., MAPE)\n",
    "    def preds_eval(self, ptn_tars, ptn_preds):\n",
    "        return self.train_eval(\n",
    "            *self.inv_preds(\n",
    "                [ptn_tars, ptn_preds],\n",
    "                self.y_scaler\n",
    "            )\n",
    "        )\n",
    "    \n",
    "    #estimate target\n",
    "    def dl_preds(self, model, ptns_feats):\n",
    "        model.eval()\n",
    "        with torch.no_grad():\n",
    "            return [\n",
    "                model(ptn_feats)\n",
    "                for ptn_feats in ptns_feats\n",
    "            ]\n",
    "        \n",
    "    ########################################################################################################################\n",
    "\n",
    "\n",
    "    ########################################################################################################################\n",
    "    #train neural network\n",
    "    ########################################################################################################################\n",
    "\n",
    "    def train(self, identifier, model, worst_loss, worst_eval, round_lim):\n",
    "\n",
    "        #intitialize default\n",
    "        self.init_seeds()\n",
    "        optimizer = self.optimizer(\n",
    "            params = model.parameters(),\n",
    "            lr = self.learning_rate\n",
    "        )\n",
    "        es_epoch, es_patience, es_loss = 0, 0, worst_loss\n",
    "        self.best_model = self.copy_model(model)\n",
    "        self.best_epoch = 0\n",
    "        self.best_loss, self.best_eval = worst_loss, worst_eval\n",
    "        ####################################################################################################################\n",
    "\n",
    "        writer = SummaryWriter()\n",
    "\n",
    "        #display table head \n",
    "        mtrc_size = np.round(random.random(), round_lim)\n",
    "        col_names = [\n",
    "            \"Epoch\", \n",
    "            \"Training Loss\", \n",
    "            \"Validation Loss\", \n",
    "            \"Training Evaluation\", \n",
    "            \"Validation Evaluation\"\n",
    "        ]\n",
    "        spaces = [\n",
    "            max(\n",
    "                [\n",
    "                    len(str(ptn_arg))\n",
    "                    for ptn_arg in ptn_args\n",
    "                ]\n",
    "            ) + 2\n",
    "            for ptn_args in [\n",
    "                 [col_names[0], self.max_epochs],\n",
    "                 *[\n",
    "                      [\n",
    "                           ptn_arg, mtrc_size\n",
    "                      ]\n",
    "                      for ptn_arg in col_names[1:]\n",
    "                 ]\n",
    "            ]\n",
    "        ]\n",
    "        seps = sum(spaces) + 2 * len(spaces)\n",
    "        head = [\n",
    "            self.print_seps(seps), \n",
    "            f\"|{identifier:^{seps - 2}}|\", \n",
    "            self.print_seps(seps), \n",
    "            self.print_row(col_names, spaces), \n",
    "            self.print_seps(seps)\n",
    "        ]\n",
    "        for function in head:\n",
    "            print(function)\n",
    "        ####################################################################################################################\n",
    "\n",
    "        #optimize\n",
    "        while (es_epoch := es_epoch + 1) < self.max_epochs and (es_patience := es_patience + 1) <= self.es_patience:\n",
    "            model.train()\n",
    "            _, train_loss = self.preds_loss(\n",
    "                model, self.X_train, self.y_train\n",
    "            )\n",
    "            optimizer.zero_grad()\n",
    "            train_loss.backward()\n",
    "            optimizer.step()\n",
    "        ####################################################################################################################\n",
    "\n",
    "            #judge optimization\n",
    "            model.eval()\n",
    "            with torch.no_grad():\n",
    "                y_train_preds, train_loss = self.preds_loss(\n",
    "                    model, self.X_train, self.y_train\n",
    "                )\n",
    "                y_val_preds, val_loss = self.preds_loss(\n",
    "                    model, self.X_val, self.y_val\n",
    "                )\n",
    "                writer.add_scalars(\n",
    "                    \"experiments_loss\",\n",
    "                    {\"train\": train_loss.item(),\n",
    "                     \"val\": val_loss.item()},\n",
    "                    es_epoch\n",
    "                ) \n",
    "                train_eval = self.preds_eval(\n",
    "                    self.y_train, y_train_preds\n",
    "                )\n",
    "                val_eval = self.preds_eval(\n",
    "                    self.y_val, y_val_preds\n",
    "                )\n",
    "                writer.add_scalars(\n",
    "                    \"experiments_eval\", \n",
    "                    {\"train\": train_eval,\n",
    "                     \"val\": val_eval},\n",
    "                    es_epoch\n",
    "                ) \n",
    "                writer.flush()\n",
    "\n",
    "                #store best optimal state\n",
    "                if val_eval < self.best_eval:\n",
    "                    self.best_model = self.copy_model(model)\n",
    "                    self.best_epoch = es_epoch\n",
    "                    self.best_loss, self.best_eval = val_loss.item(), val_eval\n",
    "\n",
    "                #patience counter reset\n",
    "                if val_loss + self.es_threshold < es_loss:\n",
    "                    es_loss, es_patience = val_loss, 0\n",
    "            ################################################################################################################\n",
    "\n",
    "        #display training progress\n",
    "            if es_epoch == 1 or es_epoch % 10 == 0:\n",
    "                data_points = [\n",
    "                    es_epoch,\n",
    "                    *[\n",
    "                        np.round(ptn_mtrc, round_lim)\n",
    "                        for ptn_mtrc in [\n",
    "                            train_loss.item(),\n",
    "                            val_loss.item(),\n",
    "                            train_eval,\n",
    "                            val_eval\n",
    "                        ]\n",
    "                    ]\n",
    "                ]\n",
    "                print(self.print_row(data_points, spaces))\n",
    "        print(self.print_seps(seps))\n",
    "        ####################################################################################################################\n",
    "\n",
    "        writer.close()\n",
    "\n",
    "    ########################################################################################################################\n",
    "        \n",
    "\n",
    "    ########################################################################################################################\n",
    "    #optimize neural network\n",
    "    ########################################################################################################################\n",
    "        \n",
    "    #construct estimator\n",
    "    def init_estimator(self, estimator, dflt_lays, dflt_act):\n",
    "        self.estimator =  NeuralNetRegressor(\n",
    "            module = estimator,\n",
    "            module__layers = dflt_lays,\n",
    "            module__activation = dflt_act,\n",
    "            criterion = self.criterion,\n",
    "            optimizer = self.optimizer,\n",
    "            lr = self.learning_rate,\n",
    "            max_epochs = self.max_epochs,\n",
    "            batch_size = -1,\n",
    "            train_split = None,\n",
    "            predict_nonlinearity = None,\n",
    "            verbose = 0\n",
    "        )\n",
    "\n",
    "    #identify best hyperparameters\n",
    "    def optimize(self, grid, splts, reps):\n",
    "\n",
    "        #setup cross validated grid search\n",
    "        self.reg = GridSearchCV(\n",
    "            estimator = self.estimator,\n",
    "            param_grid = grid,\n",
    "            scoring = self.opt_eval,\n",
    "            n_jobs = -1,\n",
    "            refit = True,\n",
    "            cv = RepeatedKFold(\n",
    "                n_splits = splts,\n",
    "                n_repeats = reps,\n",
    "                random_state = self.random_state\n",
    "            ),\n",
    "            verbose = 1\n",
    "        )\n",
    "\n",
    "        #intitialize cross validated grid search\n",
    "        self.reg.fit(\n",
    "            X = self.X_train_full,\n",
    "            y = self.y_train_full\n",
    "        )\n",
    "    \n",
    "    ########################################################################################################################"
   ]
  },
  {
   "cell_type": "markdown",
   "metadata": {},
   "source": [
    "As a multilayer perceptron is trained, neuron weights and biases are optimized. Optimization relies on the Adam optimizer, the industry's go-to. The go-to, owing to its stabilizing correction of initialization bias, coupled with dynamic learning rates at each parameter. Its application occurs across numerous epochs, here 1000 as a common default. 1000 to presumably permit ample room for optimization. Such room exhaustion is regulated via early stoppage, for the sake of runtime. Early stoppage triggered by validation loss following a period of insufficient improvement. The period under consideration is defined by patience at a default setting of five, striking an assumed balance between premature stoppage and time spent on plateus. Insufficient improvement within those periods is equated to an absence of improvement, due to reasonable computational overhead being expected. Improvement as measured by a mean absolute error _(L1)_ loss criterion. Mean squared error _(MSE)_ was deemed inequitable, due to outlier sensitivity. In light of the fact that greater errors are penalized with greater losses, minimized by the optimizer, resulting in outlier bias. Loss measured in validation as optimized based on training, with overfitting eventually taking precedence at the expense of runtime. Optimization based on training entails several steps. First, a forward pass is performed, yielding predictions, compared to a ground truth manifested in loss. Gradients are then computed and accumulated by back propagation, the more efficient counterpart to forward propagation. Final optimization is rooted in those accumulated gradients, presuming the erasure of those prior to the current epoch. For optimization purposes, each loss and evaluation begins with an infinity value. Infinity as to gurantee capture of virtually every initial encounter as improvement. The optimal state is determined by the mean absolute percentage error _(MAPE)_. As _MAPE_ gauges diverse target groups. Considering that, deviations among target groups with lower budgets may be small in absolute terms, yet still relevant, given the global stimulation intentions of landlord-tenant interactions. During evaluation, multilayer perceptron mode shall be set to eval, accounting for potential differences in behaviors. At present, no action would be required, however in anticipation of multilayer perceptron changes. In this sense, optimization also takes place in train mode. All metrics accumulated after optimization are written to the tensorboard for live monitoring, allowing early detection of problems during training."
   ]
  },
  {
   "cell_type": "code",
   "execution_count": 28,
   "metadata": {},
   "outputs": [],
   "source": [
    "prep_wrapper(0)\n",
    "trainer = model_trainer(\n",
    "    *prep.feats[:-1],\n",
    "    *prep.tars[:-1],\n",
    "    prep.tars_scaler\n",
    ")\n",
    "\n",
    "trainer.init_hparms(\n",
    "    criterion = torch.nn.L1Loss(),\n",
    "    es_threshold = 0,\n",
    "    es_patience = 5,\n",
    "    opt_eval = \"\",\n",
    "    train_eval = mean_absolute_percentage_error,  \n",
    "    learning_rate = 0.01, \n",
    "    max_epochs = 1000,\n",
    "    optimizer = torch.optim.Adam, \n",
    ")\n",
    "\n",
    "def model_trainer_wrapper(identifier, layers, activation):\n",
    "\n",
    "    #construct neural network\n",
    "    model = MultiLayerPerceptron(\n",
    "        layers = layers, \n",
    "        activation = activation\n",
    "    )\n",
    "\n",
    "    #train neural network\n",
    "    trainer.train(\n",
    "        identifier = identifier,\n",
    "        model = model,\n",
    "        worst_eval = float(\"inf\"),\n",
    "        worst_loss = float(\"inf\"),\n",
    "        round_lim = 8\n",
    "    )\n",
    "\n",
    "    #retrieve best neural network\n",
    "    model.load_state_dict(trainer.best_model)\n",
    "\n",
    "    #estimate predictions\n",
    "    return trainer.inv_preds(\n",
    "        trainer.dl_preds(\n",
    "            model, \n",
    "            prep.feats[1:]\n",
    "        ), \n",
    "        prep.tars_scaler\n",
    "    )"
   ]
  },
  {
   "cell_type": "markdown",
   "metadata": {},
   "source": [
    "Given time limitations, training sessions cannot grasp the full breadth of architecture variations. The focus of investigation lies thus on width, i.e. the amount of neurons per layer as well as activation functions."
   ]
  },
  {
   "cell_type": "markdown",
   "metadata": {},
   "source": [
    "<p style=\"background-color:#032765; font-family: newtimeroman; color: #ffffff; font-size: 150%; text-align: center; border-radius: 10px 10px;\">6.1 - Architectural Exploration</p>"
   ]
  },
  {
   "cell_type": "markdown",
   "metadata": {},
   "source": [
    "Among those activation functions, hard hyperbolic tangent _(HardTanh)_ and parametric rectified linear unit _(PReLU)_ are considered, due to their state-of-the-art efficiency. State-of-the-art efficiency for mitigating vanishing gradients, in back propagation from output to early layers, otherwise causing slow convergence, stalled networks, and impaired learning. Moreover, _PReLU_ over rectified linear unit _(ReLU)_, as negative neuronal inputs would otherwise inhibit gradient flow and therefore tuning, resulting in inactive neurons and thus loss of capacity. Treatment of these negative neuronal inputs can be tuned in _PReLU_, as opposed to leaky _ReLU_, favoring it for its adaptability. In both cases, a default is assumed in the interim, to be tuned in the later grid search. Layer's default hyperparameters are informed by experience (lectures). Based on that default, widths are investigated by a factor of two, beginning with _PReLU_, proceeding to _HardTanh_."
   ]
  },
  {
   "cell_type": "code",
   "execution_count": 29,
   "metadata": {},
   "outputs": [
    {
     "name": "stdout",
     "output_type": "stream",
     "text": [
      "---------------------------------------------------------------------------------------------\n",
      "|                                       Narrow PReLU                                        |\n",
      "---------------------------------------------------------------------------------------------\n",
      "| Epoch || Training Loss || Validation Loss || Training Evaluation || Validation Evaluation |\n",
      "---------------------------------------------------------------------------------------------\n",
      "|   1   ||  0.70574725   ||   0.61314946    ||     0.33248287      ||      0.30859767       |\n",
      "|  10   ||   0.347298    ||   0.32914948    ||     0.18624706      ||      0.18904929       |\n",
      "|  20   ||  0.29245612   ||   0.28144911    ||     0.15398119      ||      0.15773289       |\n",
      "|  30   ||   0.2627556   ||   0.25270161    ||     0.13197769      ||      0.13326843       |\n",
      "|  40   ||   0.2532059   ||   0.25057566    ||     0.12573963      ||      0.13057864       |\n",
      "|  50   ||  0.24458393   ||   0.24907269    ||     0.12191207      ||      0.13097418       |\n",
      "---------------------------------------------------------------------------------------------\n"
     ]
    }
   ],
   "source": [
    "dl__narrow_prelu_preds = model_trainer_wrapper(\n",
    "    \"Narrow PReLU\", \n",
    "    [[25, 64], [64, 32], [32, 16], [16, 1]], \n",
    "    torch.nn.PReLU()\n",
    ")"
   ]
  },
  {
   "cell_type": "code",
   "execution_count": 30,
   "metadata": {},
   "outputs": [
    {
     "name": "stdout",
     "output_type": "stream",
     "text": [
      "---------------------------------------------------------------------------------------------\n",
      "|                                       Default PReLU                                       |\n",
      "---------------------------------------------------------------------------------------------\n",
      "| Epoch || Training Loss || Validation Loss || Training Evaluation || Validation Evaluation |\n",
      "---------------------------------------------------------------------------------------------\n",
      "|   1   ||  0.66874629   ||   0.58228081    ||     0.32524447      ||      0.30273171       |\n",
      "|  10   ||  0.30781576   ||   0.28951862    ||     0.17447137      ||      0.17111044       |\n",
      "|  20   ||  0.26975238   ||   0.26465583    ||      0.1369607      ||      0.14079735       |\n",
      "|  30   ||  0.25206354   ||   0.25254083    ||     0.12624644      ||      0.13276176       |\n",
      "|  40   ||  0.23895925   ||   0.24608356    ||     0.12006744      ||      0.12968472       |\n",
      "|  50   ||  0.23285425   ||   0.24578363    ||     0.11339907      ||      0.12587863       |\n",
      "|  60   ||  0.22021998   ||   0.23983058    ||      0.1076402      ||       0.1224429       |\n",
      "|  70   ||  0.21046518   ||   0.24185769    ||     0.10359076      ||      0.12333204       |\n",
      "---------------------------------------------------------------------------------------------\n"
     ]
    }
   ],
   "source": [
    "dl__dflt_prelu_preds = model_trainer_wrapper(\n",
    "    \"Default PReLU\", \n",
    "    [[25, 128], [128, 64], [64, 32], [32, 1]], \n",
    "    torch.nn.PReLU(),\n",
    ")"
   ]
  },
  {
   "cell_type": "code",
   "execution_count": 31,
   "metadata": {},
   "outputs": [
    {
     "name": "stdout",
     "output_type": "stream",
     "text": [
      "---------------------------------------------------------------------------------------------\n",
      "|                                        Wide PReLU                                         |\n",
      "---------------------------------------------------------------------------------------------\n",
      "| Epoch || Training Loss || Validation Loss || Training Evaluation || Validation Evaluation |\n",
      "---------------------------------------------------------------------------------------------\n",
      "|   1   ||  0.52117598   ||   0.45650834    ||     0.24876688      ||      0.23433749       |\n",
      "|  10   ||  0.28962299   ||   0.28025642    ||     0.14418581      ||      0.14766958       |\n",
      "|  20   ||   0.2779184   ||   0.26942307    ||     0.14879918      ||      0.15170251       |\n",
      "|  30   ||  0.25261319   ||   0.25083411    ||     0.13022005      ||      0.13528693       |\n",
      "|  40   ||  0.23803349   ||   0.24575205    ||      0.1174955      ||      0.12722456       |\n",
      "|  50   ||  0.22315067   ||   0.23807864    ||     0.11092297      ||      0.12369002       |\n",
      "|  60   ||  0.21379811   ||    0.235989     ||     0.10422396      ||       0.1207958       |\n",
      "|  70   ||  0.20388152   ||   0.23953632    ||     0.10227735      ||      0.12468161       |\n",
      "---------------------------------------------------------------------------------------------\n"
     ]
    }
   ],
   "source": [
    "dl__wide_prelu_preds = model_trainer_wrapper(\n",
    "    \"Wide PReLU\", \n",
    "    [[25, 256], [256, 128], [128, 64], [64, 1]], \n",
    "    torch.nn.PReLU()\n",
    ")"
   ]
  },
  {
   "cell_type": "markdown",
   "metadata": {},
   "source": [
    "_PReLU_ exhibits a trend across all metrics. The wider the network the better the initial fit of data. Yet, they tend to converge around similar regions over epochs, sharing a trajectory. Convergence occurs with narrowness over fewer epochs, preceding overfitting, as indicated by early stoppage. However, at roughly similar regions, as wider networks tend to slightly better fit."
   ]
  },
  {
   "cell_type": "code",
   "execution_count": 32,
   "metadata": {},
   "outputs": [
    {
     "name": "stdout",
     "output_type": "stream",
     "text": [
      "---------------------------------------------------------------------------------------------\n",
      "|                                      Narrow HardTanh                                      |\n",
      "---------------------------------------------------------------------------------------------\n",
      "| Epoch || Training Loss || Validation Loss || Training Evaluation || Validation Evaluation |\n",
      "---------------------------------------------------------------------------------------------\n",
      "|   1   ||  0.62225777   ||   0.54294771    ||     0.30886066      ||       0.2889148       |\n",
      "|  10   ||  0.35004848   ||   0.32048586    ||     0.18136666      ||      0.18310437       |\n",
      "|  20   ||  0.32035786   ||   0.28867251    ||     0.16600608      ||       0.1627378       |\n",
      "|  30   ||  0.30762932   ||   0.28169611    ||     0.15520717      ||      0.15491545       |\n",
      "|  40   ||  0.30067757   ||   0.27841082    ||      0.1556149      ||      0.15583897       |\n",
      "|  50   ||  0.29984319   ||   0.27839974    ||     0.15413679      ||      0.15430918       |\n",
      "---------------------------------------------------------------------------------------------\n"
     ]
    }
   ],
   "source": [
    "dl__narrow_hardtanh_preds = model_trainer_wrapper(\n",
    "    \"Narrow HardTanh\", \n",
    "    [[25, 64], [64, 32], [32, 16], [16, 1]], \n",
    "    torch.nn.Hardtanh()\n",
    ")"
   ]
  },
  {
   "cell_type": "code",
   "execution_count": 33,
   "metadata": {},
   "outputs": [
    {
     "name": "stdout",
     "output_type": "stream",
     "text": [
      "---------------------------------------------------------------------------------------------\n",
      "|                                     Default HardTanh                                      |\n",
      "---------------------------------------------------------------------------------------------\n",
      "| Epoch || Training Loss || Validation Loss || Training Evaluation || Validation Evaluation |\n",
      "---------------------------------------------------------------------------------------------\n",
      "|   1   ||  0.55853486   ||   0.50902694    ||     0.32768207      ||      0.31939273       |\n",
      "|  10   ||  0.34446383   ||   0.31114542    ||     0.18528446      ||      0.18127745       |\n",
      "|  20   ||  0.29713023   ||    0.2695685    ||     0.15433975      ||      0.15191596       |\n",
      "|  30   ||  0.32096162   ||   0.29984763    ||     0.18099359      ||      0.17834193       |\n",
      "---------------------------------------------------------------------------------------------\n"
     ]
    }
   ],
   "source": [
    "dl__dflt_hardtanh_preds = model_trainer_wrapper(\n",
    "    \"Default HardTanh\", \n",
    "    [[25, 128], [128, 64], [64, 32], [32, 1]], \n",
    "    torch.nn.Hardtanh()\n",
    ")"
   ]
  },
  {
   "cell_type": "code",
   "execution_count": 34,
   "metadata": {},
   "outputs": [
    {
     "name": "stdout",
     "output_type": "stream",
     "text": [
      "---------------------------------------------------------------------------------------------\n",
      "|                                       Wide HardTanh                                       |\n",
      "---------------------------------------------------------------------------------------------\n",
      "| Epoch || Training Loss || Validation Loss || Training Evaluation || Validation Evaluation |\n",
      "---------------------------------------------------------------------------------------------\n",
      "|   1   ||  0.62474877   ||   0.62830609    ||     0.43012628      ||      0.45201605       |\n",
      "|  10   ||  0.41870278   ||   0.37759063    ||      0.230443       ||      0.22465896       |\n",
      "|  20   ||  0.32697064   ||   0.29268822    ||     0.15359987      ||      0.15300004       |\n",
      "|  30   ||   0.2985267   ||   0.26837552    ||     0.15147467      ||      0.14782571       |\n",
      "|  40   ||  0.31548327   ||   0.30449334    ||     0.15902144      ||      0.16465182       |\n",
      "|  50   ||  0.28685111   ||   0.28054476    ||     0.13965849      ||      0.14679893       |\n",
      "|  60   ||  0.27112973   ||   0.26787794    ||     0.13161147      ||      0.13981652       |\n",
      "---------------------------------------------------------------------------------------------\n"
     ]
    }
   ],
   "source": [
    "dl__wide_hardtanh_preds = model_trainer_wrapper(\n",
    "    \"Wide HardTanh\", \n",
    "    [[25, 256], [256, 128], [128, 64], [64, 1]], \n",
    "    torch.nn.Hardtanh()\n",
    ")"
   ]
  },
  {
   "cell_type": "markdown",
   "metadata": {},
   "source": [
    "Networks underlying _HardTanh_ exhibit superior initial data fits, by default, as compared to width-tuned alternatives. Although convergence tendencies gravitate towards similar regions over epochs. Default leads in convergence by epochs, followed by narrow and then wide alternatives, before overfitting, indicated by early stoppage. Convergence, yet only in fairly similar regions, suggesting a better fit with wider networks. More dispersed regions may be caused, due to lack of patience in early stoppage, as indicated in the default case. Indication as of comparable behavior to the wide network until shortly prior cutoff, well below the epochs of the other.\n",
    "\n",
    "Improvement in fit, paired with overfitting onset, possibly disrupted by lack of patience in the _HardTanh_'s default case, suggests more complex patterns to be captured, as capacity increases."
   ]
  },
  {
   "cell_type": "markdown",
   "metadata": {},
   "source": [
    "<p style=\"background-color:#032765; font-family: newtimeroman; color: #ffffff; font-size: 150%; text-align: center; border-radius: 10px 10px;\">6.2 - Evaluation</p>"
   ]
  },
  {
   "cell_type": "markdown",
   "metadata": {},
   "source": [
    "Improvements are put to the test based on unseen data. Towards proving the claim of improvements, explored networks are directly compared. Upon proof, improvements are questioned by baselines to judge their meaningfulness. As judged by the _MAPE_, complemented by R-squared _(R2)_. _R2_ as goodness of fit measure, indicative of the extent to which models explain rental rates by rental property's collective variance. That essentially delineates the range of rental rates covered, i.e. the spectrum of tenants reached. Given the overarching goal of stimulating global tenant-landlord interactions, irrespective of specific target groups, _R2_ makes sense."
   ]
  },
  {
   "cell_type": "code",
   "execution_count": 35,
   "metadata": {},
   "outputs": [],
   "source": [
    "def evaluation(algos, ord, tars, preds):\n",
    "    return pd.DataFrame(\n",
    "        data = [\n",
    "            {\n",
    "                \"algorithm\": algo,\n",
    "                \"partition\": ptn,\n",
    "                \"MAPE\": mean_absolute_percentage_error(\n",
    "                    y_true = ptn_tar,\n",
    "                    y_pred = ptn_pred\n",
    "                ),\n",
    "                \"R2\": r2_score(\n",
    "                    y_true = ptn_tar,\n",
    "                    y_pred = ptn_pred\n",
    "                )\n",
    "            }\n",
    "            for algo, ptns_pred in zip(algos, preds)\n",
    "            for ptn, ptn_tar, ptn_pred in zip(ord, tars, ptns_pred)\n",
    "        ]\n",
    "    ).sort_values(\n",
    "        by = \"MAPE\"\n",
    "    )"
   ]
  },
  {
   "cell_type": "code",
   "execution_count": 36,
   "metadata": {},
   "outputs": [],
   "source": [
    "results = evaluation(\n",
    "    algos = [\n",
    "        \"dummy_regressor\",\n",
    "        \"linear_regression\",\n",
    "        \"dl_default_prelu\", \n",
    "        \"dl_default_hardtanh\", \n",
    "        \"dl_wide_prelu\", \n",
    "        \"dl_wide_hardtanh\", \n",
    "        \"dl_narrow_prelu\", \n",
    "        \"dl_narrow_hardtanh\"\n",
    "    ],\n",
    "    ord = [\n",
    "        \"train\", \n",
    "        \"val\", \n",
    "        \"test\"\n",
    "    ],\n",
    "    tars = [\n",
    "        y_train,\n",
    "        y_val,\n",
    "        y_test\n",
    "    ],\n",
    "    preds = [\n",
    "        dmy__preds,\n",
    "        ml__preds,\n",
    "        dl__dflt_prelu_preds, \n",
    "        dl__dflt_hardtanh_preds,\n",
    "        dl__wide_prelu_preds,\n",
    "        dl__wide_hardtanh_preds,\n",
    "        dl__narrow_prelu_preds,\n",
    "        dl__narrow_hardtanh_preds\n",
    "    ]\n",
    ")"
   ]
  },
  {
   "cell_type": "code",
   "execution_count": 37,
   "metadata": {},
   "outputs": [],
   "source": [
    "def get_partition(df, ptn_col, ptn):\n",
    "    return df[df[ptn_col] == ptn].reset_index(drop = True)"
   ]
  },
  {
   "cell_type": "code",
   "execution_count": 38,
   "metadata": {},
   "outputs": [
    {
     "data": {
      "text/html": [
       "<div>\n",
       "<style scoped>\n",
       "    .dataframe tbody tr th:only-of-type {\n",
       "        vertical-align: middle;\n",
       "    }\n",
       "\n",
       "    .dataframe tbody tr th {\n",
       "        vertical-align: top;\n",
       "    }\n",
       "\n",
       "    .dataframe thead th {\n",
       "        text-align: right;\n",
       "    }\n",
       "</style>\n",
       "<table border=\"1\" class=\"dataframe\">\n",
       "  <thead>\n",
       "    <tr style=\"text-align: right;\">\n",
       "      <th></th>\n",
       "      <th>algorithm</th>\n",
       "      <th>partition</th>\n",
       "      <th>MAPE</th>\n",
       "      <th>R2</th>\n",
       "    </tr>\n",
       "  </thead>\n",
       "  <tbody>\n",
       "    <tr>\n",
       "      <th>0</th>\n",
       "      <td>dl_wide_prelu</td>\n",
       "      <td>test</td>\n",
       "      <td>0.125676</td>\n",
       "      <td>0.779809</td>\n",
       "    </tr>\n",
       "    <tr>\n",
       "      <th>1</th>\n",
       "      <td>dl_default_prelu</td>\n",
       "      <td>test</td>\n",
       "      <td>0.127277</td>\n",
       "      <td>0.770835</td>\n",
       "    </tr>\n",
       "    <tr>\n",
       "      <th>2</th>\n",
       "      <td>dl_narrow_prelu</td>\n",
       "      <td>test</td>\n",
       "      <td>0.133673</td>\n",
       "      <td>0.765628</td>\n",
       "    </tr>\n",
       "    <tr>\n",
       "      <th>3</th>\n",
       "      <td>dl_wide_hardtanh</td>\n",
       "      <td>test</td>\n",
       "      <td>0.136122</td>\n",
       "      <td>0.774841</td>\n",
       "    </tr>\n",
       "    <tr>\n",
       "      <th>4</th>\n",
       "      <td>dl_default_hardtanh</td>\n",
       "      <td>test</td>\n",
       "      <td>0.148259</td>\n",
       "      <td>0.748661</td>\n",
       "    </tr>\n",
       "    <tr>\n",
       "      <th>5</th>\n",
       "      <td>dl_narrow_hardtanh</td>\n",
       "      <td>test</td>\n",
       "      <td>0.156497</td>\n",
       "      <td>0.742014</td>\n",
       "    </tr>\n",
       "    <tr>\n",
       "      <th>6</th>\n",
       "      <td>linear_regression</td>\n",
       "      <td>test</td>\n",
       "      <td>0.177715</td>\n",
       "      <td>0.749245</td>\n",
       "    </tr>\n",
       "    <tr>\n",
       "      <th>7</th>\n",
       "      <td>dummy_regressor</td>\n",
       "      <td>test</td>\n",
       "      <td>0.355562</td>\n",
       "      <td>-0.136345</td>\n",
       "    </tr>\n",
       "  </tbody>\n",
       "</table>\n",
       "</div>"
      ],
      "text/plain": [
       "             algorithm partition      MAPE        R2\n",
       "0        dl_wide_prelu      test  0.125676  0.779809\n",
       "1     dl_default_prelu      test  0.127277  0.770835\n",
       "2      dl_narrow_prelu      test  0.133673  0.765628\n",
       "3     dl_wide_hardtanh      test  0.136122  0.774841\n",
       "4  dl_default_hardtanh      test  0.148259  0.748661\n",
       "5   dl_narrow_hardtanh      test  0.156497  0.742014\n",
       "6    linear_regression      test  0.177715  0.749245\n",
       "7      dummy_regressor      test  0.355562 -0.136345"
      ]
     },
     "execution_count": 38,
     "metadata": {},
     "output_type": "execute_result"
    }
   ],
   "source": [
    "get_partition(results, \"partition\", \"test\")"
   ]
  },
  {
   "cell_type": "markdown",
   "metadata": {},
   "source": [
    "Predictions based on the test partition confirm the initial assumption, wherefore _MAPE_ decreases with increasing width. Assuming lack of patience for _HardTanh_'s defaults, a tendency to adhere to wider alternatives was observed. _PReLU_ dominates _HardTanh_, irrespective of width, outperforming all alternatives. _HardTanh_'s wide alternative resembles _PReLU_, thus, at its worst. Even so, all neural networks are significantly above the dummy and slightly ahead of linear regression. With the gap between linear regression and the top neural network being more pronounced. As regards _R2_, linear regression is far closer, overtaking the narrow and default _HardTanh_, whereas the dummy trailed far behind. _R2_ for neural networks follows the same dynamic as the _MAPE_."
   ]
  },
  {
   "cell_type": "code",
   "execution_count": 39,
   "metadata": {},
   "outputs": [
    {
     "data": {
      "text/html": [
       "<div>\n",
       "<style scoped>\n",
       "    .dataframe tbody tr th:only-of-type {\n",
       "        vertical-align: middle;\n",
       "    }\n",
       "\n",
       "    .dataframe tbody tr th {\n",
       "        vertical-align: top;\n",
       "    }\n",
       "\n",
       "    .dataframe thead th {\n",
       "        text-align: right;\n",
       "    }\n",
       "</style>\n",
       "<table border=\"1\" class=\"dataframe\">\n",
       "  <thead>\n",
       "    <tr style=\"text-align: right;\">\n",
       "      <th></th>\n",
       "      <th>algorithm</th>\n",
       "      <th>partition</th>\n",
       "      <th>MAPE</th>\n",
       "      <th>R2</th>\n",
       "    </tr>\n",
       "  </thead>\n",
       "  <tbody>\n",
       "    <tr>\n",
       "      <th>0</th>\n",
       "      <td>dl_wide_prelu</td>\n",
       "      <td>val</td>\n",
       "      <td>0.120425</td>\n",
       "      <td>0.827904</td>\n",
       "    </tr>\n",
       "    <tr>\n",
       "      <th>1</th>\n",
       "      <td>dl_default_prelu</td>\n",
       "      <td>val</td>\n",
       "      <td>0.122443</td>\n",
       "      <td>0.822616</td>\n",
       "    </tr>\n",
       "    <tr>\n",
       "      <th>2</th>\n",
       "      <td>dl_narrow_prelu</td>\n",
       "      <td>val</td>\n",
       "      <td>0.129452</td>\n",
       "      <td>0.820061</td>\n",
       "    </tr>\n",
       "    <tr>\n",
       "      <th>3</th>\n",
       "      <td>dl_wide_hardtanh</td>\n",
       "      <td>val</td>\n",
       "      <td>0.130997</td>\n",
       "      <td>0.825156</td>\n",
       "    </tr>\n",
       "    <tr>\n",
       "      <th>4</th>\n",
       "      <td>dl_default_hardtanh</td>\n",
       "      <td>val</td>\n",
       "      <td>0.139377</td>\n",
       "      <td>0.803650</td>\n",
       "    </tr>\n",
       "    <tr>\n",
       "      <th>5</th>\n",
       "      <td>dl_narrow_hardtanh</td>\n",
       "      <td>val</td>\n",
       "      <td>0.150519</td>\n",
       "      <td>0.786868</td>\n",
       "    </tr>\n",
       "    <tr>\n",
       "      <th>6</th>\n",
       "      <td>linear_regression</td>\n",
       "      <td>val</td>\n",
       "      <td>0.168840</td>\n",
       "      <td>0.795403</td>\n",
       "    </tr>\n",
       "    <tr>\n",
       "      <th>7</th>\n",
       "      <td>dummy_regressor</td>\n",
       "      <td>val</td>\n",
       "      <td>0.340722</td>\n",
       "      <td>-0.108370</td>\n",
       "    </tr>\n",
       "  </tbody>\n",
       "</table>\n",
       "</div>"
      ],
      "text/plain": [
       "             algorithm partition      MAPE        R2\n",
       "0        dl_wide_prelu       val  0.120425  0.827904\n",
       "1     dl_default_prelu       val  0.122443  0.822616\n",
       "2      dl_narrow_prelu       val  0.129452  0.820061\n",
       "3     dl_wide_hardtanh       val  0.130997  0.825156\n",
       "4  dl_default_hardtanh       val  0.139377  0.803650\n",
       "5   dl_narrow_hardtanh       val  0.150519  0.786868\n",
       "6    linear_regression       val  0.168840  0.795403\n",
       "7      dummy_regressor       val  0.340722 -0.108370"
      ]
     },
     "execution_count": 39,
     "metadata": {},
     "output_type": "execute_result"
    }
   ],
   "source": [
    "get_partition(results, \"partition\", \"val\")"
   ]
  },
  {
   "cell_type": "markdown",
   "metadata": {},
   "source": [
    "Test partition assertions are largely applicable to validation. Given a validation-rooted optimal state, neural network metrics improved slightly. _R2_ superiority of linear regression, thus diminished to only narrow _HardTanh_. As linear regression, although not exposed to the validation partition, also improved, simpler patterns may be assumed. Abounding from the fact that the dummy also improved, features near the median are to be expected, suggesting fewer outliers. Data leakage may therefore be smaller than anticipated."
   ]
  },
  {
   "cell_type": "code",
   "execution_count": 40,
   "metadata": {},
   "outputs": [
    {
     "data": {
      "text/html": [
       "<div>\n",
       "<style scoped>\n",
       "    .dataframe tbody tr th:only-of-type {\n",
       "        vertical-align: middle;\n",
       "    }\n",
       "\n",
       "    .dataframe tbody tr th {\n",
       "        vertical-align: top;\n",
       "    }\n",
       "\n",
       "    .dataframe thead th {\n",
       "        text-align: right;\n",
       "    }\n",
       "</style>\n",
       "<table border=\"1\" class=\"dataframe\">\n",
       "  <thead>\n",
       "    <tr style=\"text-align: right;\">\n",
       "      <th></th>\n",
       "      <th>algorithm</th>\n",
       "      <th>partition</th>\n",
       "      <th>MAPE</th>\n",
       "      <th>R2</th>\n",
       "    </tr>\n",
       "  </thead>\n",
       "  <tbody>\n",
       "    <tr>\n",
       "      <th>0</th>\n",
       "      <td>dl_wide_prelu</td>\n",
       "      <td>train</td>\n",
       "      <td>0.100383</td>\n",
       "      <td>0.889597</td>\n",
       "    </tr>\n",
       "    <tr>\n",
       "      <th>1</th>\n",
       "      <td>dl_default_prelu</td>\n",
       "      <td>train</td>\n",
       "      <td>0.107640</td>\n",
       "      <td>0.880241</td>\n",
       "    </tr>\n",
       "    <tr>\n",
       "      <th>2</th>\n",
       "      <td>dl_narrow_prelu</td>\n",
       "      <td>train</td>\n",
       "      <td>0.119607</td>\n",
       "      <td>0.861756</td>\n",
       "    </tr>\n",
       "    <tr>\n",
       "      <th>3</th>\n",
       "      <td>dl_wide_hardtanh</td>\n",
       "      <td>train</td>\n",
       "      <td>0.127999</td>\n",
       "      <td>0.846000</td>\n",
       "    </tr>\n",
       "    <tr>\n",
       "      <th>4</th>\n",
       "      <td>dl_default_hardtanh</td>\n",
       "      <td>train</td>\n",
       "      <td>0.142747</td>\n",
       "      <td>0.825158</td>\n",
       "    </tr>\n",
       "    <tr>\n",
       "      <th>5</th>\n",
       "      <td>dl_narrow_hardtanh</td>\n",
       "      <td>train</td>\n",
       "      <td>0.150956</td>\n",
       "      <td>0.797746</td>\n",
       "    </tr>\n",
       "    <tr>\n",
       "      <th>6</th>\n",
       "      <td>linear_regression</td>\n",
       "      <td>train</td>\n",
       "      <td>0.171145</td>\n",
       "      <td>0.826318</td>\n",
       "    </tr>\n",
       "    <tr>\n",
       "      <th>7</th>\n",
       "      <td>dummy_regressor</td>\n",
       "      <td>train</td>\n",
       "      <td>0.366044</td>\n",
       "      <td>-0.135670</td>\n",
       "    </tr>\n",
       "  </tbody>\n",
       "</table>\n",
       "</div>"
      ],
      "text/plain": [
       "             algorithm partition      MAPE        R2\n",
       "0        dl_wide_prelu     train  0.100383  0.889597\n",
       "1     dl_default_prelu     train  0.107640  0.880241\n",
       "2      dl_narrow_prelu     train  0.119607  0.861756\n",
       "3     dl_wide_hardtanh     train  0.127999  0.846000\n",
       "4  dl_default_hardtanh     train  0.142747  0.825158\n",
       "5   dl_narrow_hardtanh     train  0.150956  0.797746\n",
       "6    linear_regression     train  0.171145  0.826318\n",
       "7      dummy_regressor     train  0.366044 -0.135670"
      ]
     },
     "execution_count": 40,
     "metadata": {},
     "output_type": "execute_result"
    }
   ],
   "source": [
    "get_partition(results, \"partition\", \"train\")"
   ]
  },
  {
   "cell_type": "markdown",
   "metadata": {},
   "source": [
    "The training partition is subject to the same assumptions as validation, except for the simpler patterns and linear regression exposure. Simple patterns and fewer outliers in validation are supported by increased _MAPE_ for both dummy and linear regression. Especially so, as linear regression was exposed to the evaluation partition, yet still performed worse than for validation. Given that all models have been trained on those assumption-wise more complex patterns, the linear regression _R2_ again exceeds narrow and default _HardTanh_. Overall, all other metrics except for the dummy, not affected by data leakage, improved.\n",
    "\n",
    "In summary, unseen data poses _MAPE_ not very different from seen data, indicating generalizability. While _R2_ may be less, yet still in line with the experiment goal. With regard to the largely similar sizes of gaps across the underlying activation functions, a regular generalization gap may be apparent. In this respect, most baselines were surpassed, more so in the case of dominant neural networks, thereby passing the sanity check.\n",
    "\n",
    "Moreover, wider gaps were observed between the supposedly simpler validation and the more complex test partition, relative to linear regression and neural networks. Linear regression may, thus, struggle with outliers, as compared to neural networks. Data leakage in neural networks for the validation partition only emphasizes, as the gap should potentially be even wider. However, as the nature of the individual partitions has not been confirmed, assumptions should be treated with caution."
   ]
  },
  {
   "cell_type": "markdown",
   "metadata": {},
   "source": [
    "<p style=\"background-color:#032765; font-family: newtimeroman; color: #ffffff; font-size: 150%; text-align: center; border-radius: 10px 10px;\">6.3 - Optimization</p>"
   ]
  },
  {
   "cell_type": "markdown",
   "metadata": {},
   "source": [
    "Optimization efforts are rooted in the dominant wide _PReLU_. Such optimization occurs across a defined grid of hyperparameters. Choice of hyperparameters relies on exploration raised assumptions. Those assumptions assert that improvement of metrics comes with increase of width. However, as default and wide _PReLU_ were fairly close, one cannot rule out whether the optimum lies somewhere between or beyond. Thus, layer hyperparameters are centered around the dominant wide _PReLU_, investigating wideness and narrowness, until the default. While for the _PReLU_ activation function, an exhaustive search covering a broad range of alphas is conducted. A comprehensive grid search is warranted given the lack of prior indications, except for the default value, whose effectiveness remains uncertain."
   ]
  },
  {
   "cell_type": "code",
   "execution_count": 41,
   "metadata": {},
   "outputs": [],
   "source": [
    "grid = {\n",
    "    \"module__layers\": [\n",
    "        [[25, i * 32], [i * 32, i * 16], [i * 16, i * 8], [i * 8, 1]]\n",
    "        for i in range(5, 12)\n",
    "    ],\n",
    "    \"module__activation\": [\n",
    "        torch.nn.PReLU(init = 0.125 + i * 0.125)\n",
    "    for i in range(7)\n",
    "    ]\n",
    "}"
   ]
  },
  {
   "cell_type": "markdown",
   "metadata": {},
   "source": [
    "However, neural networks are not natively supported by sklearn's grid search. For this purpose, skorch is employed, giving the multilayer perceptron a sklearn BaseEstimator interface. In this way, the multilayer perceptron is wrapped as a NeuralNetRegressor, sharing similar learning hyperparameters for consistency with prior training. Except for maximum epochs, reduced to 150. 150 as approximately double that of exploration to avoid underfitting, while reducing runtime. In this instance, early stoppage is not utilized to limit epochs, as doing so would require an internal skorch split. Yet there is no back-channel, communicating validation partitions to the grid search. As a consequence, the validation partition would be ignored in the grid search, further reducing limited data. Limited diversity within data results in lack of generalizability. Thus, performance is given precedence over runtime. Performance is measured using the _MAPE_."
   ]
  },
  {
   "cell_type": "code",
   "execution_count": 42,
   "metadata": {},
   "outputs": [],
   "source": [
    "#update model trainer's hyperparameters\n",
    "trainer.updt_hparms(\n",
    "    max_epochs = 150,\n",
    "    opt_eval = \"neg_mean_absolute_percentage_error\"\n",
    "    )\n",
    "\n",
    "#construct NeuralNetRegressor wrapper\n",
    "trainer.init_estimator(\n",
    "    estimator = MultiLayerPerceptron,\n",
    "    dflt_lays = [[25, 256], [256, 128], [128, 64], [64, 1]],\n",
    "    dflt_act = torch.nn.PReLU()\n",
    ")"
   ]
  },
  {
   "cell_type": "markdown",
   "metadata": {},
   "source": [
    "Cross validation is conducted to obtain robust performance estimates. Robust, as a result of random fold splitting and role rotation, across multiple repetitions. Those roles constitute training and validation, consistent with neural networks' optimization. Hence, training and validation partitions are combined, split into four folds. Four folds to match the initial split of 25% validation and 75% training. Such folds lend themselves only to the stratification of targets. Therefore, stratification on community boards must be renounced. This lack of stratification is compensated for by 20 repetitions per hyperparameter combination. Compensated for, as the neural network will be exposed to multiple split combinations, eventually averaging out imbalances."
   ]
  },
  {
   "cell_type": "code",
   "execution_count": 43,
   "metadata": {},
   "outputs": [
    {
     "name": "stdout",
     "output_type": "stream",
     "text": [
      "Fitting 80 folds for each of 49 candidates, totalling 3920 fits\n"
     ]
    }
   ],
   "source": [
    "trainer.optimize(\n",
    "    grid = grid,\n",
    "    splts = 4,\n",
    "    reps = 20\n",
    ")"
   ]
  },
  {
   "cell_type": "code",
   "execution_count": 44,
   "metadata": {},
   "outputs": [
    {
     "data": {
      "text/plain": [
       "{'module__activation': PReLU(num_parameters=1),\n",
       " 'module__layers': [[25, 320], [320, 160], [160, 80], [80, 1]]}"
      ]
     },
     "execution_count": 44,
     "metadata": {},
     "output_type": "execute_result"
    }
   ],
   "source": [
    "#best hyperparameters\n",
    "trainer.reg.best_params_"
   ]
  },
  {
   "cell_type": "code",
   "execution_count": 45,
   "metadata": {},
   "outputs": [
    {
     "data": {
      "text/plain": [
       "0.25"
      ]
     },
     "execution_count": 45,
     "metadata": {},
     "output_type": "execute_result"
    }
   ],
   "source": [
    "#best alpha of PReLU\n",
    "trainer.reg.best_params_[\"module__activation\"].weight.item()"
   ]
  },
  {
   "cell_type": "markdown",
   "metadata": {},
   "source": [
    "The cross-validated grid search supports the hypothesis of metric improvement in wide neural networks. Overly wide neural networks, however, risk memorizing data by heart. Overfitting therefore poses a serious concern among them. In line, no significant improvements, beyond the wide _PReLU_ default, were achieved. Performance was, nonetheless, tweaked by adding slightly wider layers. While _PReLU_'s default alpha proved most effective."
   ]
  },
  {
   "cell_type": "code",
   "execution_count": 68,
   "metadata": {},
   "outputs": [],
   "source": [
    "dl__optimized_preds = trainer.inv_preds(\n",
    "    [\n",
    "        trainer.reg.best_estimator_.predict(ptn)\n",
    "        for ptn in prep.feats[1:]\n",
    "    ],\n",
    "    prep.tars_scaler\n",
    ")"
   ]
  },
  {
   "cell_type": "code",
   "execution_count": 77,
   "metadata": {},
   "outputs": [
    {
     "data": {
      "text/html": [
       "<div>\n",
       "<style scoped>\n",
       "    .dataframe tbody tr th:only-of-type {\n",
       "        vertical-align: middle;\n",
       "    }\n",
       "\n",
       "    .dataframe tbody tr th {\n",
       "        vertical-align: top;\n",
       "    }\n",
       "\n",
       "    .dataframe thead th {\n",
       "        text-align: right;\n",
       "    }\n",
       "</style>\n",
       "<table border=\"1\" class=\"dataframe\">\n",
       "  <thead>\n",
       "    <tr style=\"text-align: right;\">\n",
       "      <th></th>\n",
       "      <th>algorithm</th>\n",
       "      <th>partition</th>\n",
       "      <th>MAPE</th>\n",
       "      <th>R2</th>\n",
       "    </tr>\n",
       "  </thead>\n",
       "  <tbody>\n",
       "    <tr>\n",
       "      <th>0</th>\n",
       "      <td>dl_wide_prelu</td>\n",
       "      <td>test</td>\n",
       "      <td>0.125676</td>\n",
       "      <td>0.779809</td>\n",
       "    </tr>\n",
       "    <tr>\n",
       "      <th>1</th>\n",
       "      <td>optimized_neural_network</td>\n",
       "      <td>test</td>\n",
       "      <td>0.127016</td>\n",
       "      <td>0.801977</td>\n",
       "    </tr>\n",
       "  </tbody>\n",
       "</table>\n",
       "</div>"
      ],
      "text/plain": [
       "                  algorithm partition      MAPE        R2\n",
       "0             dl_wide_prelu      test  0.125676  0.779809\n",
       "1  optimized_neural_network      test  0.127016  0.801977"
      ]
     },
     "execution_count": 77,
     "metadata": {},
     "output_type": "execute_result"
    }
   ],
   "source": [
    "results = evaluation(\n",
    "    algos = [\n",
    "        \"dl_wide_prelu\",\n",
    "        \"optimized_neural_network\"\n",
    "    ],\n",
    "    ord = [\n",
    "        \"test\"\n",
    "    ],\n",
    "    tars = [\n",
    "        y_test\n",
    "    ],\n",
    "    preds = [\n",
    "        [dl__wide_prelu_preds[2]],\n",
    "        [dl__optimized_preds[2]]\n",
    "    ]\n",
    ")\n",
    "results"
   ]
  },
  {
   "cell_type": "markdown",
   "metadata": {},
   "source": [
    "It should be noted that the _MAPE_ for unseen data falls slightly above the explanatory one in this particular split. Even so, those hyperparameters outperformed the wide _PReLU_ default's ones across all folds and repetitions. The outperformance in this particular case could be attributed to a favorable split. Alternatively, grid search may have been affected due to community boards' absence of stratification. Besides that, _R2_ has improved."
   ]
  },
  {
   "cell_type": "markdown",
   "metadata": {},
   "source": [
    "<p style=\"background-color:#032765; font-family: newtimeroman; color: #ffffff; font-size: 200%; text-align: center; border-radius: 10px 10px;\">Task 7 - Conclusions and Future Work</p>"
   ]
  },
  {
   "cell_type": "markdown",
   "metadata": {},
   "source": [
    "Experimental results are based on cross-validated neural networks, proven within a grid of hyperparameters. Hyperparameters focused on the architecture, rooted in prior explorations. Those explorations indicated performance improvements for increasing width, boosted by _PReLU_. As width optima remained speculative, layers revolved around the dominant neural network. While _PReLU_ alphas were exhaustively searched, given lack of evidence concerning the relative performance of the default. Based on the grid of those alphas and layers, the following hyperparameter combination emerged.\n",
    "\n",
    "- Layers: [[25, 320], [320, 160], [160, 80], [80, 1]]\n",
    "- PReLU Alpha: 0.25\n",
    "\n",
    "In consideration of those architectural hyperparameters, a _MAPE_ of 12.7% was achieved on yet unseen data, with _R2_ reaching 80.2%.\n",
    "\n",
    "This experiment's initial objective was proof of concept. Neural networks' reliability as an estimator of rental rates was therefore to be proven. Both dummy (by 22.85%) and linear regression (by 5.07%) were outperformed in a sanity check at a _MAPE_ of 12.7%. Thus there is evidence for greater reliability. While _R2_ indicates with 80.2%, coverage of a broad range of rental prices and thus spectrum of tenants. In line with the goal of general tenant-landlord stimulation.\n",
    "\n",
    "Due to these achievements, proof of concept is deemed successful, constituting a research scaling indicator. Such an indicator further reinforces an investment decision. This investment may revolutionize pricing strategies, alleviating landlord cold starts to attract potential tenants. Increased traffic attracts landlords owing to larger audiences, translating into listing fees as revenue.\n",
    "\n",
    "Yet, it may be wise to revisit classical machine learning before attempting to capitalize on these opportunities. As such, a full-fledged hyperparameter tuning is recommended, allowing for a fair comparison, as capitalization may be feasible via simpler approaches. The training should be supplemented with additional data to guarantee a fair representation of minority neighborhoods. In doing so, an even broader spectrum of nuances may be captured, eventually contributing to greater performance.\n",
    "\n",
    "Future Work:\n",
    "- Cross validated grid search for learning hyperparameters\n",
    "- Examination of hidden layer activation function combinations\n",
    "- Exploration of shallow and deep concepts"
   ]
  }
 ],
 "metadata": {
  "kernelspec": {
   "display_name": "Python 3",
   "language": "python",
   "name": "python3"
  },
  "language_info": {
   "codemirror_mode": {
    "name": "ipython",
    "version": 3
   },
   "file_extension": ".py",
   "mimetype": "text/x-python",
   "name": "python",
   "nbconvert_exporter": "python",
   "pygments_lexer": "ipython3",
   "version": "3.11.2"
  }
 },
 "nbformat": 4,
 "nbformat_minor": 2
}
